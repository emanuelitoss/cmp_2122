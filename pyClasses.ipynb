{
 "cells": [
  {
   "cell_type": "markdown",
   "metadata": {},
   "source": [
    "# 7th session: classes in Python\n",
    "\n",
    "## Dice games: Kniffel and CLR\n",
    "\n",
    "bla bla bla\n",
    "\n",
    "### Importing modules"
   ]
  },
  {
   "cell_type": "code",
   "execution_count": 2,
   "metadata": {},
   "outputs": [
    {
     "ename": "KeyboardInterrupt",
     "evalue": "",
     "output_type": "error",
     "traceback": [
      "\u001b[0;31m---------------------------------------------------------------------------\u001b[0m",
      "\u001b[0;31mKeyboardInterrupt\u001b[0m                         Traceback (most recent call last)",
      "\u001b[0;32m/var/folders/dr/0kfsv0410yqcv4gkk8gg9vbc0000gn/T/ipykernel_72288/1589070337.py\u001b[0m in \u001b[0;36m<module>\u001b[0;34m\u001b[0m\n\u001b[1;32m      4\u001b[0m \u001b[0;32mimport\u001b[0m \u001b[0mmatplotlib\u001b[0m\u001b[0;34m.\u001b[0m\u001b[0mpyplot\u001b[0m \u001b[0;32mas\u001b[0m \u001b[0mplt\u001b[0m\u001b[0;34m\u001b[0m\u001b[0;34m\u001b[0m\u001b[0m\n\u001b[1;32m      5\u001b[0m \u001b[0;32mimport\u001b[0m \u001b[0mmatplotlib\u001b[0m\u001b[0;34m.\u001b[0m\u001b[0manimation\u001b[0m \u001b[0;32mas\u001b[0m \u001b[0manimation\u001b[0m\u001b[0;34m\u001b[0m\u001b[0;34m\u001b[0m\u001b[0m\n\u001b[0;32m----> 6\u001b[0;31m \u001b[0;32mimport\u001b[0m \u001b[0mscipy\u001b[0m\u001b[0;34m.\u001b[0m\u001b[0moptimize\u001b[0m\u001b[0;34m\u001b[0m\u001b[0;34m\u001b[0m\u001b[0m\n\u001b[0m",
      "\u001b[0;32m/Library/Frameworks/Python.framework/Versions/3.8/lib/python3.8/site-packages/scipy/optimize/__init__.py\u001b[0m in \u001b[0;36m<module>\u001b[0;34m\u001b[0m\n\u001b[1;32m    398\u001b[0m \"\"\"\n\u001b[1;32m    399\u001b[0m \u001b[0;34m\u001b[0m\u001b[0m\n\u001b[0;32m--> 400\u001b[0;31m \u001b[0;32mfrom\u001b[0m \u001b[0;34m.\u001b[0m\u001b[0moptimize\u001b[0m \u001b[0;32mimport\u001b[0m \u001b[0;34m*\u001b[0m\u001b[0;34m\u001b[0m\u001b[0;34m\u001b[0m\u001b[0m\n\u001b[0m\u001b[1;32m    401\u001b[0m \u001b[0;32mfrom\u001b[0m \u001b[0;34m.\u001b[0m\u001b[0m_minimize\u001b[0m \u001b[0;32mimport\u001b[0m \u001b[0;34m*\u001b[0m\u001b[0;34m\u001b[0m\u001b[0;34m\u001b[0m\u001b[0m\n\u001b[1;32m    402\u001b[0m \u001b[0;32mfrom\u001b[0m \u001b[0;34m.\u001b[0m\u001b[0m_root\u001b[0m \u001b[0;32mimport\u001b[0m \u001b[0;34m*\u001b[0m\u001b[0;34m\u001b[0m\u001b[0;34m\u001b[0m\u001b[0m\n",
      "\u001b[0;32m/Library/Frameworks/Python.framework/Versions/3.8/lib/python3.8/site-packages/scipy/optimize/optimize.py\u001b[0m in \u001b[0;36m<module>\u001b[0;34m\u001b[0m\n\u001b[1;32m     34\u001b[0m                          \u001b[0mline_search_wolfe2\u001b[0m \u001b[0;32mas\u001b[0m \u001b[0mline_search\u001b[0m\u001b[0;34m,\u001b[0m\u001b[0;34m\u001b[0m\u001b[0;34m\u001b[0m\u001b[0m\n\u001b[1;32m     35\u001b[0m                          LineSearchWarning)\n\u001b[0;32m---> 36\u001b[0;31m \u001b[0;32mfrom\u001b[0m \u001b[0;34m.\u001b[0m\u001b[0m_numdiff\u001b[0m \u001b[0;32mimport\u001b[0m \u001b[0mapprox_derivative\u001b[0m\u001b[0;34m\u001b[0m\u001b[0;34m\u001b[0m\u001b[0m\n\u001b[0m\u001b[1;32m     37\u001b[0m \u001b[0;32mfrom\u001b[0m \u001b[0mscipy\u001b[0m\u001b[0;34m.\u001b[0m\u001b[0m_lib\u001b[0m\u001b[0;34m.\u001b[0m\u001b[0m_util\u001b[0m \u001b[0;32mimport\u001b[0m \u001b[0mgetfullargspec_no_self\u001b[0m \u001b[0;32mas\u001b[0m \u001b[0m_getfullargspec\u001b[0m\u001b[0;34m\u001b[0m\u001b[0;34m\u001b[0m\u001b[0m\n\u001b[1;32m     38\u001b[0m \u001b[0;32mfrom\u001b[0m \u001b[0mscipy\u001b[0m\u001b[0;34m.\u001b[0m\u001b[0m_lib\u001b[0m\u001b[0;34m.\u001b[0m\u001b[0m_util\u001b[0m \u001b[0;32mimport\u001b[0m \u001b[0mMapWrapper\u001b[0m\u001b[0;34m\u001b[0m\u001b[0;34m\u001b[0m\u001b[0m\n",
      "\u001b[0;32m/Library/Frameworks/Python.framework/Versions/3.8/lib/python3.8/site-packages/scipy/optimize/_numdiff.py\u001b[0m in \u001b[0;36m<module>\u001b[0;34m\u001b[0m\n\u001b[1;32m      4\u001b[0m \u001b[0;32mfrom\u001b[0m \u001b[0mnumpy\u001b[0m\u001b[0;34m.\u001b[0m\u001b[0mlinalg\u001b[0m \u001b[0;32mimport\u001b[0m \u001b[0mnorm\u001b[0m\u001b[0;34m\u001b[0m\u001b[0;34m\u001b[0m\u001b[0m\n\u001b[1;32m      5\u001b[0m \u001b[0;34m\u001b[0m\u001b[0m\n\u001b[0;32m----> 6\u001b[0;31m \u001b[0;32mfrom\u001b[0m \u001b[0mscipy\u001b[0m\u001b[0;34m.\u001b[0m\u001b[0msparse\u001b[0m\u001b[0;34m.\u001b[0m\u001b[0mlinalg\u001b[0m \u001b[0;32mimport\u001b[0m \u001b[0mLinearOperator\u001b[0m\u001b[0;34m\u001b[0m\u001b[0;34m\u001b[0m\u001b[0m\n\u001b[0m\u001b[1;32m      7\u001b[0m \u001b[0;32mfrom\u001b[0m \u001b[0;34m.\u001b[0m\u001b[0;34m.\u001b[0m\u001b[0msparse\u001b[0m \u001b[0;32mimport\u001b[0m \u001b[0missparse\u001b[0m\u001b[0;34m,\u001b[0m \u001b[0mcsc_matrix\u001b[0m\u001b[0;34m,\u001b[0m \u001b[0mcsr_matrix\u001b[0m\u001b[0;34m,\u001b[0m \u001b[0mcoo_matrix\u001b[0m\u001b[0;34m,\u001b[0m \u001b[0mfind\u001b[0m\u001b[0;34m\u001b[0m\u001b[0;34m\u001b[0m\u001b[0m\n\u001b[1;32m      8\u001b[0m \u001b[0;32mfrom\u001b[0m \u001b[0;34m.\u001b[0m\u001b[0m_group_columns\u001b[0m \u001b[0;32mimport\u001b[0m \u001b[0mgroup_dense\u001b[0m\u001b[0;34m,\u001b[0m \u001b[0mgroup_sparse\u001b[0m\u001b[0;34m\u001b[0m\u001b[0;34m\u001b[0m\u001b[0m\n",
      "\u001b[0;32m/Library/Frameworks/Python.framework/Versions/3.8/lib/python3.8/site-packages/scipy/sparse/linalg/__init__.py\u001b[0m in \u001b[0;36m<module>\u001b[0;34m\u001b[0m\n\u001b[1;32m    109\u001b[0m \"\"\"\n\u001b[1;32m    110\u001b[0m \u001b[0;34m\u001b[0m\u001b[0m\n\u001b[0;32m--> 111\u001b[0;31m \u001b[0;32mfrom\u001b[0m \u001b[0;34m.\u001b[0m\u001b[0misolve\u001b[0m \u001b[0;32mimport\u001b[0m \u001b[0;34m*\u001b[0m\u001b[0;34m\u001b[0m\u001b[0;34m\u001b[0m\u001b[0m\n\u001b[0m\u001b[1;32m    112\u001b[0m \u001b[0;32mfrom\u001b[0m \u001b[0;34m.\u001b[0m\u001b[0mdsolve\u001b[0m \u001b[0;32mimport\u001b[0m \u001b[0;34m*\u001b[0m\u001b[0;34m\u001b[0m\u001b[0;34m\u001b[0m\u001b[0m\n\u001b[1;32m    113\u001b[0m \u001b[0;32mfrom\u001b[0m \u001b[0;34m.\u001b[0m\u001b[0minterface\u001b[0m \u001b[0;32mimport\u001b[0m \u001b[0;34m*\u001b[0m\u001b[0;34m\u001b[0m\u001b[0;34m\u001b[0m\u001b[0m\n",
      "\u001b[0;32m/Library/Frameworks/Python.framework/Versions/3.8/lib/python3.8/site-packages/scipy/sparse/linalg/isolve/__init__.py\u001b[0m in \u001b[0;36m<module>\u001b[0;34m\u001b[0m\n\u001b[1;32m      2\u001b[0m \u001b[0;34m\u001b[0m\u001b[0m\n\u001b[1;32m      3\u001b[0m \u001b[0;31m#from info import __doc__\u001b[0m\u001b[0;34m\u001b[0m\u001b[0;34m\u001b[0m\u001b[0;34m\u001b[0m\u001b[0m\n\u001b[0;32m----> 4\u001b[0;31m \u001b[0;32mfrom\u001b[0m \u001b[0;34m.\u001b[0m\u001b[0miterative\u001b[0m \u001b[0;32mimport\u001b[0m \u001b[0;34m*\u001b[0m\u001b[0;34m\u001b[0m\u001b[0;34m\u001b[0m\u001b[0m\n\u001b[0m\u001b[1;32m      5\u001b[0m \u001b[0;32mfrom\u001b[0m \u001b[0;34m.\u001b[0m\u001b[0mminres\u001b[0m \u001b[0;32mimport\u001b[0m \u001b[0mminres\u001b[0m\u001b[0;34m\u001b[0m\u001b[0;34m\u001b[0m\u001b[0m\n\u001b[1;32m      6\u001b[0m \u001b[0;32mfrom\u001b[0m \u001b[0;34m.\u001b[0m\u001b[0mlgmres\u001b[0m \u001b[0;32mimport\u001b[0m \u001b[0mlgmres\u001b[0m\u001b[0;34m\u001b[0m\u001b[0;34m\u001b[0m\u001b[0m\n",
      "\u001b[0;32m/Library/Frameworks/Python.framework/Versions/3.8/lib/python3.8/site-packages/scipy/sparse/linalg/isolve/iterative.py\u001b[0m in \u001b[0;36m<module>\u001b[0;34m\u001b[0m\n\u001b[1;32m      6\u001b[0m \u001b[0;32mimport\u001b[0m \u001b[0mnumpy\u001b[0m \u001b[0;32mas\u001b[0m \u001b[0mnp\u001b[0m\u001b[0;34m\u001b[0m\u001b[0;34m\u001b[0m\u001b[0m\n\u001b[1;32m      7\u001b[0m \u001b[0;34m\u001b[0m\u001b[0m\n\u001b[0;32m----> 8\u001b[0;31m \u001b[0;32mfrom\u001b[0m \u001b[0;34m.\u001b[0m \u001b[0;32mimport\u001b[0m \u001b[0m_iterative\u001b[0m\u001b[0;34m\u001b[0m\u001b[0;34m\u001b[0m\u001b[0m\n\u001b[0m\u001b[1;32m      9\u001b[0m \u001b[0;34m\u001b[0m\u001b[0m\n\u001b[1;32m     10\u001b[0m \u001b[0;32mfrom\u001b[0m \u001b[0mscipy\u001b[0m\u001b[0;34m.\u001b[0m\u001b[0msparse\u001b[0m\u001b[0;34m.\u001b[0m\u001b[0mlinalg\u001b[0m\u001b[0;34m.\u001b[0m\u001b[0minterface\u001b[0m \u001b[0;32mimport\u001b[0m \u001b[0mLinearOperator\u001b[0m\u001b[0;34m\u001b[0m\u001b[0;34m\u001b[0m\u001b[0m\n",
      "\u001b[0;31mKeyboardInterrupt\u001b[0m: "
     ]
    }
   ],
   "source": [
    "import math as m\n",
    "import random as r\n",
    "import numpy as np\n",
    "import matplotlib.pyplot as plt\n",
    "import matplotlib.animation as animation\n",
    "import scipy.optimize"
   ]
  },
  {
   "cell_type": "markdown",
   "metadata": {},
   "source": [
    "### Class to represent a die"
   ]
  },
  {
   "cell_type": "code",
   "execution_count": 36,
   "metadata": {},
   "outputs": [],
   "source": [
    "class die:\n",
    "    \n",
    "    name = \"a dice\"\n",
    "    \n",
    "    def __init__(self, name=name):\n",
    "        \"\"\"I construct Die instances\"\"\"\n",
    "        self.faces = []\n",
    "        self.name = name\n",
    "        print(self.name, 'speaking: I am constructed :)')\n",
    "        \n",
    "    def __str__(self):\n",
    "        info = '(name = {0}, faces of dice = {1})'.format(self.name, self.faces)\n",
    "        return info\n",
    "\n",
    "    def __del__(self):\n",
    "        print(self.name, 'speaking: I am destructed :(')\n",
    "        \n",
    "    def fair_roll(self):\n",
    "        extraction = r.choice((1, 2, 3, 4, 5, 6))\n",
    "        self.faces.append(extraction)"
   ]
  },
  {
   "cell_type": "markdown",
   "metadata": {},
   "source": [
    "Testing the class:"
   ]
  },
  {
   "cell_type": "code",
   "execution_count": 45,
   "metadata": {},
   "outputs": [
    {
     "name": "stdout",
     "output_type": "stream",
     "text": [
      "Gigio speaking: I am constructed :)\n",
      "Giggio speaking: I am destructed :(\n",
      "[]\n",
      "[2, 6, 6]\n",
      "Peppe speaking: I am constructed :)\n",
      "Peppe speaking: I am destructed :(\n",
      "[]\n",
      "[3, 4, 6]\n"
     ]
    }
   ],
   "source": [
    "sample = die(\"Gigio\")\n",
    "#empty die\n",
    "print(sample.faces)\n",
    "#adding 3 extractions\n",
    "sample.fair_roll()\n",
    "sample.fair_roll()\n",
    "sample.fair_roll()\n",
    "print(sample.faces)\n",
    "\n",
    "sample2 = die(\"Peppe\")\n",
    "#empty die\n",
    "print(sample2.faces)\n",
    "#adding 3 extractions\n",
    "sample2.fair_roll()\n",
    "sample2.fair_roll()\n",
    "sample2.fair_roll()\n",
    "print(sample2.faces)"
   ]
  },
  {
   "cell_type": "markdown",
   "metadata": {},
   "source": [
    "### Class representing a Kniffel game\n",
    "\n",
    "#### Rules:\n",
    "see the sheet of 5th experience"
   ]
  },
  {
   "cell_type": "code",
   "execution_count": 103,
   "metadata": {},
   "outputs": [],
   "source": [
    "class Kniffel(die):\n",
    "    \n",
    "    victory_types = {0:'nothing',1:'scale',2:'full',3:'tris',4:'poker',5:'kniffel'}\n",
    "   \n",
    "    def __init__(self):\n",
    "        self.faces = []\n",
    "        print(\"Playing Kniffel hand\")\n",
    "    \n",
    "    def __str__(self):\n",
    "        info = '(name = {0}, faces of dice = {1}, victory = {2})'.format(self.name, self.faces, self.check_score())\n",
    "        return info\n",
    "    \n",
    "    def __del__(self):\n",
    "        print(\"Closing Kniffel game\")\n",
    "    \n",
    "    # roll 5 dice\n",
    "    def play_game(self):\n",
    "        \n",
    "        for i in range(5):\n",
    "          self.fair_roll()\n",
    "          self.faces.sort()\n",
    "        \n",
    "        print(\"Results:\", self.faces)\n",
    "\n",
    "    # check if there's a victory and of which type\n",
    "    def check_score(self):\n",
    "        \n",
    "        counts = [self.faces.count(n) for n in set(self.faces)]\n",
    "        counts.sort()\n",
    " \n",
    "        event = 0\n",
    "\n",
    "        if counts == [1, 1, 3]:\n",
    "            event = 3\n",
    "        elif counts == [2, 3]:\n",
    "            event = 2\n",
    "        elif counts == [1, 4]:\n",
    "            event = 4\n",
    "        elif len(counts) == 1:\n",
    "            event = 5\n",
    "        elif self.faces == [1, 2, 3, 4, 5]:\n",
    "            event = 1\n",
    "        elif self.faces == [2, 3, 4, 5, 6]:\n",
    "            event = 1\n",
    "\n",
    "        return self.victory_types[event]"
   ]
  },
  {
   "cell_type": "markdown",
   "metadata": {},
   "source": [
    "Testing the class:"
   ]
  },
  {
   "cell_type": "code",
   "execution_count": 107,
   "metadata": {},
   "outputs": [
    {
     "name": "stdout",
     "output_type": "stream",
     "text": [
      "Playing Kniffel hand\n",
      "Closing Kniffel game\n",
      "Results: [1, 2, 2, 3, 6]\n",
      "\n",
      "A printing using game.check_score(): nothing\n",
      "\n",
      "Another printing using __str__: (name = a dice, faces of dice = [1, 2, 2, 3, 6], victory = nothing)\n"
     ]
    }
   ],
   "source": [
    "game = Kniffel()\n",
    "game.play_game()\n",
    "print(\"\\nA printing using game.check_score():\", game.check_score())\n",
    "print(\"\\nAnother printing using __str__:\", game)"
   ]
  },
  {
   "cell_type": "markdown",
   "metadata": {},
   "source": [
    "### Class to represent CLR game\n",
    "\n",
    "#### Rules of the game:\n",
    "There are three players (p1,p2,p3) and each one has 20€. If one of them has 3€ or more, it will roll three dice. If 2€, then two dice, if 1€, then one die. The die has 6 faces (C,R,L,-,-,-).\n",
    "- R: gives 1€ to the player at the right\n",
    "- L: gives 1€ to the player at the left\n",
    "- C: loses 1€\n",
    "- '-': nothing happens"
   ]
  },
  {
   "cell_type": "code",
   "execution_count": 117,
   "metadata": {},
   "outputs": [],
   "source": [
    "class CLR:\n",
    "    # two dictionaries to give money to the left or right player\n",
    "    left_ps = {'p1': 'p2', 'p2': 'p3', 'p3': 'p1'}\n",
    "    right_ps = {'p1': 'p3', 'p2': 'p1', 'p3': 'p2'}\n",
    "    # money of each player. center is needed but is not a real player\n",
    "    coin_count = {'center': 0, 'p1': 20, 'p2': 20, 'p3': 20}\n",
    "\n",
    "    # constructor\n",
    "    def __init__(self):\n",
    "        roll = []\n",
    "        print(\"Inzio una giocata\")\n",
    "\n",
    "    # destructoreì\n",
    "    def __del__(self):\n",
    "        print(\"Fine giocata\")\n",
    "\n",
    "    # string\n",
    "    def __str__(self):\n",
    "        info = 'Player and money:' + self.coin_count\n",
    "        return info\n",
    "    \n",
    "    # roll the correct number of dice rolls\n",
    "    def roll_dice(self, player):\n",
    "        # message\n",
    "        print(\"\\n\\troll_dice() function called:\")\n",
    "        # initialization of rolls list\n",
    "        self.dice = []\n",
    "        # decision control\n",
    "        if self.coin_count[player] == 0:\n",
    "            pass\n",
    "        elif self.coin_count[player] == 1:\n",
    "            self.dice.append(r.choice(('C','L','R',0,0,0)))\n",
    "        elif self.coin_count[player] == 2:\n",
    "            self.dice.append(r.choice(('C','L','R',0,0,0)))\n",
    "            self.dice.append(r.choice(('C','L','R',0,0,0)))\n",
    "        else:\n",
    "            self.dice.append(r.choice(('C','L','R',0,0,0)))\n",
    "            self.dice.append(r.choice(('C','L','R',0,0,0)))\n",
    "            self.dice.append(r.choice(('C','L','R',0,0,0)))\n",
    "        print (\"I dadi tirati per il giocatore numero {0} sono {1}\".format(player,self.dice))\n",
    "\n",
    "    # coins management\n",
    "    def process_dice(self, player):\n",
    "        # message\n",
    "        print(\"\\n\\tprocess:dice() called:\")\n",
    "        for d in self.dice:\n",
    "            if d == 'C':\n",
    "                self.coin_count['center'] += 1\n",
    "            if d == 'L':\n",
    "                self.coin_count[self.left_ps[player]] += 1\n",
    "            if d == 'R':\n",
    "                self.coin_count[self.right_ps[player]] += 1\n",
    "            if d != 0:\n",
    "                self.coin_count[player] -= 1\n",
    "        print(\"Current money for each player:\", self.coin_count)\n",
    "\n",
    "    def check_for_winner(self):\n",
    "        p_status = list(self.coin_count.values())\n",
    "        p_status.remove(self.coin_count['center'])\n",
    "        if p_status.count(0) == 2:\n",
    "            p_status.remove(0)\n",
    "            p_status.remove(0)\n",
    "            winner_coins = p_status[0]\n",
    "            for key,val in self.coin_count.items():\n",
    "                if val == winner_coins:\n",
    "                    winner = key\n",
    "            return winner\n",
    "\n",
    "    def run_game(self):\n",
    "        #p_status = list(self.coin_count.values())\n",
    "        #while p_status.count(0) != 2:\n",
    "            for player in self.coin_count:\n",
    "                if player != 'center':\n",
    "                    self.roll_dice(player)\n",
    "                    self.process_dice(player)\n",
    "                else:\n",
    "                    pass\n",
    "        #winner_key = self.check_for_winner()\n",
    "        #print(\"\\n The winner is the player numebr {0} with money: {1}\".format( winner_key,self.coin_count[winner_key]))\n",
    "        "
   ]
  },
  {
   "cell_type": "markdown",
   "metadata": {},
   "source": [
    "Testing the class"
   ]
  },
  {
   "cell_type": "code",
   "execution_count": 118,
   "metadata": {},
   "outputs": [
    {
     "name": "stdout",
     "output_type": "stream",
     "text": [
      "Inzio una giocata\n",
      "Fine giocata\n",
      "\n",
      "\troll_dice() function called:\n",
      "I dadi tirati per il giocatore numero p1 sono [0, 'R', 'C']\n",
      "\n",
      "\tprocess:dice() called:\n",
      "Current money for each player: {'center': 1, 'p1': 18, 'p2': 20, 'p3': 21}\n",
      "\n",
      "\troll_dice() function called:\n",
      "I dadi tirati per il giocatore numero p2 sono [0, 0, 0]\n",
      "\n",
      "\tprocess:dice() called:\n",
      "Current money for each player: {'center': 1, 'p1': 18, 'p2': 20, 'p3': 21}\n",
      "\n",
      "\troll_dice() function called:\n",
      "I dadi tirati per il giocatore numero p3 sono [0, 0, 0]\n",
      "\n",
      "\tprocess:dice() called:\n",
      "Current money for each player: {'center': 1, 'p1': 18, 'p2': 20, 'p3': 21}\n"
     ]
    }
   ],
   "source": [
    "giocata = CLR()\n",
    "giocata.run_game()"
   ]
  },
  {
   "cell_type": "code",
   "execution_count": 10,
   "metadata": {},
   "outputs": [
    {
     "name": "stdout",
     "output_type": "stream",
     "text": [
      "Probabilità alla Emanuele:  0.16664349\n",
      "Probabilità alla Erika:  0.16668295\n"
     ]
    }
   ],
   "source": [
    "number_events=int(1e8)\n",
    "\n",
    "die1 = 0\n",
    "die2 = 0\n",
    "events_emanuele = []\n",
    "events_erika = []\n",
    "\n",
    "for i in range(number_events):\n",
    "    die1 = r.choice((1,2,3,4,5,6))\n",
    "    die2 = r.choice((1,2,3,4,5,6))\n",
    "    # caso alla erika: tiro entrambi i dadi insieme\n",
    "    if(die1 == die2):\n",
    "        events_erika.append(die1)\n",
    "    # caso alla emanuele: c'è un numero a terra (in questo caso 6) e tiro solo un dado\n",
    "    if(die1 == 6):\n",
    "        events_emanuele.append(die1)\n",
    "        \n",
    "print(\"Probabilità alla Erika: \",len(events_emanuele)/number_events)\n",
    "print(\"Probabilità alla Emanuele: \", len(events_erika)/number_events)"
   ]
  }
 ],
 "metadata": {
  "interpreter": {
   "hash": "aee8b7b246df8f9039afb4144a1f6fd8d2ca17a180786b69acc140d282b71a49"
  },
  "kernelspec": {
   "display_name": "Python 3.8.2 64-bit",
   "language": "python",
   "name": "python3"
  },
  "language_info": {
   "codemirror_mode": {
    "name": "ipython",
    "version": 3
   },
   "file_extension": ".py",
   "mimetype": "text/x-python",
   "name": "python",
   "nbconvert_exporter": "python",
   "pygments_lexer": "ipython3",
   "version": "3.8.2"
  },
  "orig_nbformat": 4
 },
 "nbformat": 4,
 "nbformat_minor": 2
}
