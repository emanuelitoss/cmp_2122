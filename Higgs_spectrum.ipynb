{
 "cells": [
  {
   "cell_type": "markdown",
   "metadata": {},
   "source": [
    "# LAB Session 4b (20/12/2020)\n",
    "\n",
    "You will generate the Higgs mass spectrum, with signal and background, and perform fits to binned data. Then you can repeat the generation to emulate multiple experiments and perform some statistical analysis.\n",
    "\n",
    "This notebook provides guidance to obtain a correct spectrum and fit it. At the end you will find a few questions to answer (by repeating some of the steps and making some plots).\n",
    "\n",
    "The main steps are:\n",
    "- Generate Gaussian signal\n",
    " - plot the distribution\n",
    "- Generate exponential background\n",
    " - plot the distribution \n",
    "- Plot the distribution of data by stacking signal and background\n",
    "- Obtain binned data from histogram\n",
    "- Fit binned data with `curve_fit`\n",
    "- Compute the signal significance defined as $S/\\sqrt B$\n",
    "\n",
    "At this point you can repeat the steps above to perform a few studies and make some plots, as asked for at the end of the notebook."
   ]
  },
  {
   "cell_type": "markdown",
   "metadata": {},
   "source": [
    "# Modules for this exercise\n",
    "\n",
    "- `scipy.optimize` for fitting\n",
    "- `scipy.integrate` for integration"
   ]
  },
  {
   "cell_type": "code",
   "execution_count": 47,
   "metadata": {},
   "outputs": [],
   "source": [
    "import numpy as np\n",
    "import matplotlib.pyplot as plt\n",
    "import scipy.stats as stats\n",
    "from scipy import optimize as opt  \n",
    "from scipy import integrate"
   ]
  },
  {
   "cell_type": "markdown",
   "metadata": {},
   "source": [
    "# Parameters\n",
    "- Number of signal events\n",
    "- Number of background events\n",
    "- Higgs mass\n",
    "- Higgs width due to detector resolution (intrinsic width is negligible)"
   ]
  },
  {
   "cell_type": "code",
   "execution_count": 48,
   "metadata": {},
   "outputs": [],
   "source": [
    "n_sig_0 = 100\n",
    "n_bkg_0 = 10000\n",
    "\n",
    "m_sig = 125 # GeV\n",
    "w_sig = 0.02 # in %\n",
    "w_sig *= m_sig"
   ]
  },
  {
   "cell_type": "markdown",
   "metadata": {},
   "source": [
    "# Histogram data\n",
    "Boundaries and number of bins"
   ]
  },
  {
   "cell_type": "code",
   "execution_count": 49,
   "metadata": {
    "scrolled": true
   },
   "outputs": [
    {
     "name": "stdout",
     "output_type": "stream",
     "text": [
      "100 bins from 0.0 to 200.0 GeV\n",
      "Bin width: 2.00 GeV\n"
     ]
    }
   ],
   "source": [
    "x_min = 0    # GeV\n",
    "x_max = 200  # GeV\n",
    "n_bins = 100\n",
    "bin_width = (x_max-x_min)/n_bins # GeV\n",
    "print('%d bins from %.1f to %.1f GeV' % (n_bins, x_min, x_max))\n",
    "print('Bin width: %.2f GeV' % (bin_width))"
   ]
  },
  {
   "cell_type": "markdown",
   "metadata": {},
   "source": [
    "## Generate signal sample\n",
    "\n",
    "`n_sig_0` events with a Gaussian distribution around Higgs mass"
   ]
  },
  {
   "cell_type": "code",
   "execution_count": 50,
   "metadata": {},
   "outputs": [
    {
     "name": "stdout",
     "output_type": "stream",
     "text": [
      "True\n"
     ]
    }
   ],
   "source": [
    "signal = [np.random.normal(m_sig,w_sig) for i in range(n_sig_0)]\n",
    "print(len(signal)==n_sig_0)"
   ]
  },
  {
   "cell_type": "markdown",
   "metadata": {},
   "source": [
    "## Plots signal distribution\n",
    "\n",
    "Use [matplotlib.pyplot.hist](https://matplotlib.org/3.3.3/api/_as_gen/matplotlib.pyplot.hist.html)"
   ]
  },
  {
   "cell_type": "code",
   "execution_count": 51,
   "metadata": {},
   "outputs": [
    {
     "data": {
      "text/plain": [
       "Text(0, 0.5, 'Number of events')"
      ]
     },
     "execution_count": 51,
     "metadata": {},
     "output_type": "execute_result"
    },
    {
     "data": {
      "image/png": "[encoded data removed]",
      "text/plain": [
       "<Figure size 432x288 with 1 Axes>"
      ]
     },
     "metadata": {
      "needs_background": "light"
     },
     "output_type": "display_data"
    }
   ],
   "source": [
    "%matplotlib inline \n",
    "plt.title(\"Distribution of the Higgs mass\")\n",
    "n, bins, patches = plt.hist(signal, bins=n_bins, range = (x_min, x_max), color='seagreen', histtype = 'step', density=False, log=False)\n",
    "plt.xlabel(\"Mass (GeV)\")\n",
    "plt.ylabel(\"Number of events\")"
   ]
  },
  {
   "cell_type": "markdown",
   "metadata": {},
   "source": [
    "## Generate background sample\n",
    "\n",
    "`n_bkg_0` events with an exponential distribution. Use [numpy.random.exponential](https://numpy.org/doc/stable/reference/random/generated/numpy.random.exponential.html).\n",
    "\n",
    "Choose an exponential parameter that populates bins with tens of events for mass of 200 GeV. For example, use `scale=80` in [numpy.random.exponential]."
   ]
  },
  {
   "cell_type": "code",
   "execution_count": 70,
   "metadata": {},
   "outputs": [
    {
     "name": "stdout",
     "output_type": "stream",
     "text": [
      "True\n"
     ]
    }
   ],
   "source": [
    "background = np.random.exponential(80, n_bkg_0)\n",
    "print(len(background) == n_bkg_0)"
   ]
  },
  {
   "cell_type": "markdown",
   "metadata": {},
   "source": [
    "## Plots background distribution\n",
    "Use [matplotlib.pyplot.hist](https://matplotlib.org/3.3.3/api/_as_gen/matplotlib.pyplot.hist.html)\n",
    "\n",
    "Useful options:\n",
    "- _bins=n_ : fix number of bins to _n_\n",
    "- _hist=options_ : for example _hist='step'_ to show empty histogram\n",
    "- _range=(min,max)_ : fix the boundaries of data in histogram. \n",
    "  - **NB**: this is different than using _xlim(min,max)_ which is only for visualization\n"
   ]
  },
  {
   "cell_type": "code",
   "execution_count": 71,
   "metadata": {},
   "outputs": [
    {
     "data": {
      "text/plain": [
       "Text(0, 0.5, 'Number of events')"
      ]
     },
     "execution_count": 71,
     "metadata": {},
     "output_type": "execute_result"
    },
    {
     "data": {
      "image/png": "[encoded data removed]",
      "text/plain": [
       "<Figure size 432x288 with 1 Axes>"
      ]
     },
     "metadata": {
      "needs_background": "light"
     },
     "output_type": "display_data"
    }
   ],
   "source": [
    "plt.title(\"Background distribution\")\n",
    "n, bins, patches = plt.hist(background, bins=n_bins, range = (x_min, x_max), color='seagreen', histtype = 'step', density=False, log=False)\n",
    "plt.xlabel(\"Mass (GeV)\")\n",
    "plt.ylabel(\"Number of events\")"
   ]
  },
  {
   "cell_type": "markdown",
   "metadata": {},
   "source": [
    "## Stack signal and background data in the same histogram\n",
    "\n",
    "If you have two data arrays `signal` and `background`, the following can stack `signal` on top of the `background`\n",
    "\n",
    "```python\n",
    "plt.hist((background, signal), bins=n_bins, label=('backgroud', 'signal'),\n",
    "         color=('red', 'blue'), stacked=True, \n",
    "         histtype='step', range=(x_min, x_max))\n",
    "```"
   ]
  },
  {
   "cell_type": "code",
   "execution_count": 79,
   "metadata": {},
   "outputs": [
    {
     "data": {
      "text/plain": [
       "<matplotlib.legend.Legend at 0x7fde4684e1f0>"
      ]
     },
     "execution_count": 79,
     "metadata": {},
     "output_type": "execute_result"
    },
    {
     "data": {
      "image/png": "[encoded data removed]",
      "text/plain": [
       "<Figure size 432x288 with 1 Axes>"
      ]
     },
     "metadata": {
      "needs_background": "light"
     },
     "output_type": "display_data"
    }
   ],
   "source": [
    "plt.title(\"Events distribution\")\n",
    "plt.xlabel(\"Mass (GeV)\")\n",
    "plt.ylabel(\"Number of events\")\n",
    "plt.hist((background, signal), bins=n_bins, label=('backgroud', 'signal'), color=('darkorange', 'seagreen'), stacked=True, histtype='step', range=(x_min, x_max))\n",
    "plt.legend()"
   ]
  },
  {
   "cell_type": "markdown",
   "metadata": {},
   "source": [
    "## Merge signal and background samples\n",
    "\n",
    "The data collected in an experiment contains both signal and background. Two samples separately stored in NumPy arrays can be merged with [numpy.concatenate](https://numpy.org/doc/stable/reference/generated/numpy.concatenate.html) as follows:\n",
    "\n",
    "```python\n",
    "data = np.concatenate((a,b))\n",
    "```\n",
    "with the first positional argument of the function being a tuple of numpy arrays."
   ]
  },
  {
   "cell_type": "code",
   "execution_count": 55,
   "metadata": {},
   "outputs": [],
   "source": [
    "data = np.concatenate((signal,background))"
   ]
  },
  {
   "cell_type": "markdown",
   "metadata": {},
   "source": [
    "## Binned data\n",
    "\n",
    "The data sample so far is unbinned: we have a number of signal and background events. \n",
    "\n",
    "Now we can create a binned version to be fitted. This is achieved with the `pyplot.hist` function which, as we saw, returns a list of counts for each bin and the bin boundaries\n",
    "```python\n",
    "binned_data, bins, _ = plt.hist(data, bins=n_bins, label='all data', color='black', histtype='step', range=(x_min, x_max))\n",
    "```\n",
    "\n",
    "Plot the merged data and make sure it is indeed the sum of the two sub-samples."
   ]
  },
  {
   "cell_type": "code",
   "execution_count": 80,
   "metadata": {},
   "outputs": [
    {
     "data": {
      "image/png": "[encoded data removed]",
      "text/plain": [
       "<Figure size 432x288 with 1 Axes>"
      ]
     },
     "metadata": {
      "needs_background": "light"
     },
     "output_type": "display_data"
    }
   ],
   "source": [
    "plt.title(\"Events distribution\")\n",
    "plt.xlabel(\"Mass (GeV)\")\n",
    "plt.ylabel(\"Number of events\")\n",
    "binned_data, bins, _ = plt.hist(data, bins=n_bins, label='all data', color='black', histtype='step', range=(x_min, x_max))"
   ]
  },
  {
   "cell_type": "markdown",
   "metadata": {},
   "source": [
    "## `bins` list\n",
    "\n",
    "The list `bins` contains `n_bins + 1` values. These are run from the edge of the first bin to the edge of the last bin. Verify this."
   ]
  },
  {
   "cell_type": "code",
   "execution_count": 81,
   "metadata": {},
   "outputs": [
    {
     "name": "stdout",
     "output_type": "stream",
     "text": [
      "Length of array bins: 101, first bin: 0.0, last bin: 200.0\n"
     ]
    }
   ],
   "source": [
    "print(\"Length of array bins: {0}, first bin: {1}, last bin: {2}\".format(len(bins),bins[0],bins[-1]))"
   ]
  },
  {
   "cell_type": "markdown",
   "metadata": {},
   "source": [
    "## Center of bins (data along $x$ axis)\n",
    "\n",
    "Using a comprehension, prepare a list `center_bins` from `bins` with length of `n_bins` which contains the center of each bin of the histogram. Check your result."
   ]
  },
  {
   "cell_type": "code",
   "execution_count": 92,
   "metadata": {},
   "outputs": [
    {
     "data": {
      "text/plain": [
       "201.0"
      ]
     },
     "execution_count": 92,
     "metadata": {},
     "output_type": "execute_result"
    }
   ],
   "source": [
    "center_bins = list(bins + bin_width/2)\n",
    "center_bins.pop()"
   ]
  },
  {
   "cell_type": "markdown",
   "metadata": {},
   "source": [
    "## Bin count (data along $y$ axis)\n",
    "\n",
    "Verify that the list `binned data` has length `n_bins`."
   ]
  },
  {
   "cell_type": "code",
   "execution_count": 93,
   "metadata": {},
   "outputs": [
    {
     "name": "stdout",
     "output_type": "stream",
     "text": [
      "True\n"
     ]
    }
   ],
   "source": [
    "print(len(binned_data) == n_bins)"
   ]
  },
  {
   "cell_type": "markdown",
   "metadata": {},
   "source": [
    "## Fitting the histogram\n",
    "\n",
    "We want to fit the binned data (`binned_data` as a function of `center_bins`) using the [optimize.curve_fit](https://docs.scipy.org/doc/scipy/reference/generated/scipy.optimize.curve_fit.html) function.\n",
    "\n",
    "The fit model has to be the sum of a Gaussian and an exponential.\n",
    "\n",
    "Define three functions with proper arguments\n",
    "1. `sig(x, Norm, mean, width)` for the signal Gaussian\n",
    "2. `bkg(x, Norm, alpha)` for the background exponential\n",
    "3. `total(x, NormSig, mean, width, NormBkg, alpha)` sum of signal and background\n",
    "\n",
    "There is a total of 5 parameters to be fitted from the simulated data."
   ]
  },
  {
   "cell_type": "code",
   "execution_count": 94,
   "metadata": {},
   "outputs": [],
   "source": [
    "def sig(x, Norm = n_sig_0, mean = m_sig, width = w_sig):\n",
    "  return Norm*np.exp(-(x-mean)*(x-mean)/(2*width*width))\n",
    "                     \n",
    "def bkg(x, Norm = n_bkg_0, alpha = 80):\n",
    "  return Norm*np.exp(-x/alpha)\n",
    "\n",
    "def total(x, NormSig = n_sig_0, mean = m_sig, width = w_sig, Norm = n_bkg_0, alpha = 80):\n",
    "  return sig(x, NormSig) + bkg(x)"
   ]
  },
  {
   "cell_type": "markdown",
   "metadata": {},
   "source": [
    "## Plot fit function\n",
    "\n",
    "As a sanity check, plot the 3 functions and make sure they are implemented correctly."
   ]
  },
  {
   "cell_type": "code",
   "execution_count": 99,
   "metadata": {
    "scrolled": false
   },
   "outputs": [
    {
     "ename": "TypeError",
     "evalue": "unsupported operand type(s) for -: 'list' and 'int'",
     "output_type": "error",
     "traceback": [
      "\u001b[0;31m---------------------------------------------------------------------------\u001b[0m",
      "\u001b[0;31mTypeError\u001b[0m                                 Traceback (most recent call last)",
      "\u001b[0;32m/var/folders/dr/0kfsv0410yqcv4gkk8gg9vbc0000gn/T/ipykernel_80414/3925691919.py\u001b[0m in \u001b[0;36m<module>\u001b[0;34m\u001b[0m\n\u001b[1;32m      1\u001b[0m \u001b[0mget_ipython\u001b[0m\u001b[0;34m(\u001b[0m\u001b[0;34m)\u001b[0m\u001b[0;34m.\u001b[0m\u001b[0mrun_line_magic\u001b[0m\u001b[0;34m(\u001b[0m\u001b[0;34m'matplotlib'\u001b[0m\u001b[0;34m,\u001b[0m \u001b[0;34m'inline'\u001b[0m\u001b[0;34m)\u001b[0m\u001b[0;34m\u001b[0m\u001b[0;34m\u001b[0m\u001b[0m\n\u001b[1;32m      2\u001b[0m \u001b[0;34m\u001b[0m\u001b[0m\n\u001b[0;32m----> 3\u001b[0;31m \u001b[0mplt\u001b[0m\u001b[0;34m.\u001b[0m\u001b[0mplot\u001b[0m\u001b[0;34m(\u001b[0m\u001b[0mcenter_bins\u001b[0m\u001b[0;34m,\u001b[0m \u001b[0msig\u001b[0m\u001b[0;34m(\u001b[0m\u001b[0mcenter_bins\u001b[0m\u001b[0;34m)\u001b[0m\u001b[0;34m,\u001b[0m \u001b[0;34m'b-'\u001b[0m\u001b[0;34m,\u001b[0m \u001b[0mlabel\u001b[0m\u001b[0;34m=\u001b[0m\u001b[0;34m'Signal'\u001b[0m\u001b[0;34m)\u001b[0m\u001b[0;34m\u001b[0m\u001b[0;34m\u001b[0m\u001b[0m\n\u001b[0m\u001b[1;32m      4\u001b[0m \u001b[0mplt\u001b[0m\u001b[0;34m.\u001b[0m\u001b[0mplot\u001b[0m\u001b[0;34m(\u001b[0m\u001b[0mcenter_bins\u001b[0m\u001b[0;34m,\u001b[0m \u001b[0mbkg\u001b[0m\u001b[0;34m(\u001b[0m\u001b[0mcenter_bins\u001b[0m\u001b[0;34m)\u001b[0m\u001b[0;34m,\u001b[0m \u001b[0;34m'g-'\u001b[0m\u001b[0;34m,\u001b[0m \u001b[0mlabel\u001b[0m\u001b[0;34m=\u001b[0m\u001b[0;34m'Background'\u001b[0m\u001b[0;34m)\u001b[0m\u001b[0;34m\u001b[0m\u001b[0;34m\u001b[0m\u001b[0m\n\u001b[1;32m      5\u001b[0m \u001b[0mplt\u001b[0m\u001b[0;34m.\u001b[0m\u001b[0mplot\u001b[0m\u001b[0;34m(\u001b[0m\u001b[0mcenter_bins\u001b[0m\u001b[0;34m,\u001b[0m \u001b[0mtotal\u001b[0m\u001b[0;34m(\u001b[0m\u001b[0mcenter_bins\u001b[0m\u001b[0;34m)\u001b[0m\u001b[0;34m,\u001b[0m \u001b[0;34m'r-'\u001b[0m\u001b[0;34m,\u001b[0m \u001b[0mlabel\u001b[0m\u001b[0;34m=\u001b[0m\u001b[0;34m'Signal + Bkg'\u001b[0m\u001b[0;34m)\u001b[0m\u001b[0;34m\u001b[0m\u001b[0;34m\u001b[0m\u001b[0m\n",
      "\u001b[0;32m/var/folders/dr/0kfsv0410yqcv4gkk8gg9vbc0000gn/T/ipykernel_80414/4152483875.py\u001b[0m in \u001b[0;36msig\u001b[0;34m(x, Norm, mean, width)\u001b[0m\n\u001b[1;32m      1\u001b[0m \u001b[0;32mdef\u001b[0m \u001b[0msig\u001b[0m\u001b[0;34m(\u001b[0m\u001b[0mx\u001b[0m\u001b[0;34m,\u001b[0m \u001b[0mNorm\u001b[0m \u001b[0;34m=\u001b[0m \u001b[0mn_sig_0\u001b[0m\u001b[0;34m,\u001b[0m \u001b[0mmean\u001b[0m \u001b[0;34m=\u001b[0m \u001b[0mm_sig\u001b[0m\u001b[0;34m,\u001b[0m \u001b[0mwidth\u001b[0m \u001b[0;34m=\u001b[0m \u001b[0mw_sig\u001b[0m\u001b[0;34m)\u001b[0m\u001b[0;34m:\u001b[0m\u001b[0;34m\u001b[0m\u001b[0;34m\u001b[0m\u001b[0m\n\u001b[0;32m----> 2\u001b[0;31m   \u001b[0;32mreturn\u001b[0m \u001b[0mNorm\u001b[0m\u001b[0;34m*\u001b[0m\u001b[0mnp\u001b[0m\u001b[0;34m.\u001b[0m\u001b[0mexp\u001b[0m\u001b[0;34m(\u001b[0m\u001b[0;34m-\u001b[0m\u001b[0;34m(\u001b[0m\u001b[0mx\u001b[0m\u001b[0;34m-\u001b[0m\u001b[0mmean\u001b[0m\u001b[0;34m)\u001b[0m\u001b[0;34m*\u001b[0m\u001b[0;34m(\u001b[0m\u001b[0mx\u001b[0m\u001b[0;34m-\u001b[0m\u001b[0mmean\u001b[0m\u001b[0;34m)\u001b[0m\u001b[0;34m/\u001b[0m\u001b[0;34m(\u001b[0m\u001b[0;36m2\u001b[0m\u001b[0;34m*\u001b[0m\u001b[0mwidth\u001b[0m\u001b[0;34m*\u001b[0m\u001b[0mwidth\u001b[0m\u001b[0;34m)\u001b[0m\u001b[0;34m)\u001b[0m\u001b[0;34m\u001b[0m\u001b[0;34m\u001b[0m\u001b[0m\n\u001b[0m\u001b[1;32m      3\u001b[0m \u001b[0;34m\u001b[0m\u001b[0m\n\u001b[1;32m      4\u001b[0m \u001b[0;32mdef\u001b[0m \u001b[0mbkg\u001b[0m\u001b[0;34m(\u001b[0m\u001b[0mx\u001b[0m\u001b[0;34m,\u001b[0m \u001b[0mNorm\u001b[0m \u001b[0;34m=\u001b[0m \u001b[0mn_bkg_0\u001b[0m\u001b[0;34m,\u001b[0m \u001b[0malpha\u001b[0m \u001b[0;34m=\u001b[0m \u001b[0;36m80\u001b[0m\u001b[0;34m)\u001b[0m\u001b[0;34m:\u001b[0m\u001b[0;34m\u001b[0m\u001b[0;34m\u001b[0m\u001b[0m\n\u001b[1;32m      5\u001b[0m   \u001b[0;32mreturn\u001b[0m \u001b[0mNorm\u001b[0m\u001b[0;34m*\u001b[0m\u001b[0mnp\u001b[0m\u001b[0;34m.\u001b[0m\u001b[0mexp\u001b[0m\u001b[0;34m(\u001b[0m\u001b[0;34m-\u001b[0m\u001b[0mx\u001b[0m\u001b[0;34m/\u001b[0m\u001b[0malpha\u001b[0m\u001b[0;34m)\u001b[0m\u001b[0;34m\u001b[0m\u001b[0;34m\u001b[0m\u001b[0m\n",
      "\u001b[0;31mTypeError\u001b[0m: unsupported operand type(s) for -: 'list' and 'int'"
     ]
    }
   ],
   "source": [
    "%matplotlib inline\n",
    "\n",
    "plt.plot(center_bins, sig(center_bins), 'b-', label='Signal')\n",
    "plt.plot(center_bins, bkg(center_bins), 'g-', label='Background')\n",
    "plt.plot(center_bins, total(center_bins), 'r-', label='Signal + Bkg')\n",
    "plt.xlabel('x')\n",
    "plt.legend()"
   ]
  },
  {
   "cell_type": "markdown",
   "metadata": {},
   "source": [
    "## Initial conditions for the fit\n",
    "\n",
    "It is always a good practice to provide some initial values for the parameters to be fitted, especially in a case like this one where there are 5 parameters and the data varies a lot across the spectrum. Initial values are passed to [optimize.curve_fit](https://docs.scipy.org/doc/scipy/reference/generated/scipy.optimize.curve_fit.html) with the argument `p0`:\n",
    "```python\n",
    "pars, pars_cov = opt.curve_fit(..., p0=[500, m_sig, w_sig, 1000, alpha])\n",
    "```\n",
    "\n",
    "Recall that `pars` is the list of fitted parameters (in the order they appear in the definition of the fit function) and `pars_cov` is their covariance matrix that can be used to compute the uncertainty on each fitted parameter."
   ]
  },
  {
   "cell_type": "code",
   "execution_count": null,
   "metadata": {},
   "outputs": [],
   "source": [
    "pars, pars_cov = opt.curve_fit(total, center_bins, binned_data, p0=[n_sig_0, m_sig, w_sig, n_bkg_0, 80])"
   ]
  },
  {
   "cell_type": "markdown",
   "metadata": {},
   "source": [
    "## Fitted parameters\n",
    "- Print the parameters\n",
    "- Print the covariance matrix\n",
    "\n",
    "Are the fitted values close to the generated values?"
   ]
  },
  {
   "cell_type": "code",
   "execution_count": null,
   "metadata": {},
   "outputs": [
    {
     "name": "stdout",
     "output_type": "stream",
     "text": [
      "[-2.86436171e+03  1.25000000e+02  2.50000000e+00  1.00000000e+04\n",
      "  8.00000000e+01]\n",
      "[[inf inf inf inf inf]\n",
      " [inf inf inf inf inf]\n",
      " [inf inf inf inf inf]\n",
      " [inf inf inf inf inf]\n",
      " [inf inf inf inf inf]]\n"
     ]
    }
   ],
   "source": [
    "print(pars)\n",
    "print(pars_cov)"
   ]
  },
  {
   "cell_type": "markdown",
   "metadata": {},
   "source": [
    "## Plot the histogram and fit\n",
    "\n",
    "- Plot the data histogram\n",
    "- Overlay the fitted function (total) with the fitted parameters\n",
    "- Overlay the background function with the fitted parameters\n",
    "- Print the fitted parameters with proper legend on the screen"
   ]
  },
  {
   "cell_type": "code",
   "execution_count": null,
   "metadata": {},
   "outputs": [
    {
     "ename": "TypeError",
     "evalue": "unsupported operand type(s) for -: 'list' and 'int'",
     "output_type": "error",
     "traceback": [
      "\u001b[0;31m---------------------------------------------------------------------------\u001b[0m",
      "\u001b[0;31mTypeError\u001b[0m                                 Traceback (most recent call last)",
      "\u001b[0;32m/var/folders/dr/0kfsv0410yqcv4gkk8gg9vbc0000gn/T/ipykernel_80414/3585362056.py\u001b[0m in \u001b[0;36m<module>\u001b[0;34m\u001b[0m\n\u001b[1;32m      1\u001b[0m \u001b[0mplt\u001b[0m\u001b[0;34m.\u001b[0m\u001b[0mhist\u001b[0m\u001b[0;34m(\u001b[0m\u001b[0mdata\u001b[0m\u001b[0;34m,\u001b[0m \u001b[0mbins\u001b[0m\u001b[0;34m=\u001b[0m\u001b[0mn_bins\u001b[0m\u001b[0;34m,\u001b[0m \u001b[0mlabel\u001b[0m\u001b[0;34m=\u001b[0m\u001b[0;34m'all data'\u001b[0m\u001b[0;34m,\u001b[0m \u001b[0mcolor\u001b[0m\u001b[0;34m=\u001b[0m\u001b[0;34m'black'\u001b[0m\u001b[0;34m,\u001b[0m \u001b[0mhisttype\u001b[0m\u001b[0;34m=\u001b[0m\u001b[0;34m'step'\u001b[0m\u001b[0;34m,\u001b[0m \u001b[0mrange\u001b[0m\u001b[0;34m=\u001b[0m\u001b[0;34m(\u001b[0m\u001b[0mx_min\u001b[0m\u001b[0;34m,\u001b[0m \u001b[0mx_max\u001b[0m\u001b[0;34m)\u001b[0m\u001b[0;34m)\u001b[0m\u001b[0;34m\u001b[0m\u001b[0;34m\u001b[0m\u001b[0m\n\u001b[0;32m----> 2\u001b[0;31m \u001b[0mplt\u001b[0m\u001b[0;34m.\u001b[0m\u001b[0mplot\u001b[0m\u001b[0;34m(\u001b[0m\u001b[0mcenter_bins\u001b[0m\u001b[0;34m,\u001b[0m \u001b[0mtotal\u001b[0m\u001b[0;34m(\u001b[0m\u001b[0mcenter_bins\u001b[0m\u001b[0;34m,\u001b[0m \u001b[0mpars\u001b[0m\u001b[0;34m)\u001b[0m\u001b[0;34m,\u001b[0m \u001b[0mlabel\u001b[0m\u001b[0;34m=\u001b[0m\u001b[0;34m'fitted function'\u001b[0m\u001b[0;34m,\u001b[0m \u001b[0mcolor\u001b[0m\u001b[0;34m=\u001b[0m\u001b[0;34m'seagreen'\u001b[0m\u001b[0;34m)\u001b[0m\u001b[0;34m\u001b[0m\u001b[0;34m\u001b[0m\u001b[0m\n\u001b[0m",
      "\u001b[0;32m/var/folders/dr/0kfsv0410yqcv4gkk8gg9vbc0000gn/T/ipykernel_80414/4152483875.py\u001b[0m in \u001b[0;36mtotal\u001b[0;34m(x, NormSig, mean, width, Norm, alpha)\u001b[0m\n\u001b[1;32m      6\u001b[0m \u001b[0;34m\u001b[0m\u001b[0m\n\u001b[1;32m      7\u001b[0m \u001b[0;32mdef\u001b[0m \u001b[0mtotal\u001b[0m\u001b[0;34m(\u001b[0m\u001b[0mx\u001b[0m\u001b[0;34m,\u001b[0m \u001b[0mNormSig\u001b[0m \u001b[0;34m=\u001b[0m \u001b[0mn_sig_0\u001b[0m\u001b[0;34m,\u001b[0m \u001b[0mmean\u001b[0m \u001b[0;34m=\u001b[0m \u001b[0mm_sig\u001b[0m\u001b[0;34m,\u001b[0m \u001b[0mwidth\u001b[0m \u001b[0;34m=\u001b[0m \u001b[0mw_sig\u001b[0m\u001b[0;34m,\u001b[0m \u001b[0mNorm\u001b[0m \u001b[0;34m=\u001b[0m \u001b[0mn_bkg_0\u001b[0m\u001b[0;34m,\u001b[0m \u001b[0malpha\u001b[0m \u001b[0;34m=\u001b[0m \u001b[0;36m80\u001b[0m\u001b[0;34m)\u001b[0m\u001b[0;34m:\u001b[0m\u001b[0;34m\u001b[0m\u001b[0;34m\u001b[0m\u001b[0m\n\u001b[0;32m----> 8\u001b[0;31m   \u001b[0;32mreturn\u001b[0m \u001b[0msig\u001b[0m\u001b[0;34m(\u001b[0m\u001b[0mx\u001b[0m\u001b[0;34m,\u001b[0m \u001b[0mNormSig\u001b[0m\u001b[0;34m)\u001b[0m \u001b[0;34m+\u001b[0m \u001b[0mbkg\u001b[0m\u001b[0;34m(\u001b[0m\u001b[0mx\u001b[0m\u001b[0;34m)\u001b[0m\u001b[0;34m\u001b[0m\u001b[0;34m\u001b[0m\u001b[0m\n\u001b[0m",
      "\u001b[0;32m/var/folders/dr/0kfsv0410yqcv4gkk8gg9vbc0000gn/T/ipykernel_80414/4152483875.py\u001b[0m in \u001b[0;36msig\u001b[0;34m(x, Norm, mean, width)\u001b[0m\n\u001b[1;32m      1\u001b[0m \u001b[0;32mdef\u001b[0m \u001b[0msig\u001b[0m\u001b[0;34m(\u001b[0m\u001b[0mx\u001b[0m\u001b[0;34m,\u001b[0m \u001b[0mNorm\u001b[0m \u001b[0;34m=\u001b[0m \u001b[0mn_sig_0\u001b[0m\u001b[0;34m,\u001b[0m \u001b[0mmean\u001b[0m \u001b[0;34m=\u001b[0m \u001b[0mm_sig\u001b[0m\u001b[0;34m,\u001b[0m \u001b[0mwidth\u001b[0m \u001b[0;34m=\u001b[0m \u001b[0mw_sig\u001b[0m\u001b[0;34m)\u001b[0m\u001b[0;34m:\u001b[0m\u001b[0;34m\u001b[0m\u001b[0;34m\u001b[0m\u001b[0m\n\u001b[0;32m----> 2\u001b[0;31m   \u001b[0;32mreturn\u001b[0m \u001b[0mNorm\u001b[0m\u001b[0;34m*\u001b[0m\u001b[0mnp\u001b[0m\u001b[0;34m.\u001b[0m\u001b[0mexp\u001b[0m\u001b[0;34m(\u001b[0m\u001b[0;34m-\u001b[0m\u001b[0;34m(\u001b[0m\u001b[0mx\u001b[0m\u001b[0;34m-\u001b[0m\u001b[0mmean\u001b[0m\u001b[0;34m)\u001b[0m\u001b[0;34m*\u001b[0m\u001b[0;34m(\u001b[0m\u001b[0mx\u001b[0m\u001b[0;34m-\u001b[0m\u001b[0mmean\u001b[0m\u001b[0;34m)\u001b[0m\u001b[0;34m/\u001b[0m\u001b[0;34m(\u001b[0m\u001b[0;36m2\u001b[0m\u001b[0;34m*\u001b[0m\u001b[0mwidth\u001b[0m\u001b[0;34m*\u001b[0m\u001b[0mwidth\u001b[0m\u001b[0;34m)\u001b[0m\u001b[0;34m)\u001b[0m\u001b[0;34m\u001b[0m\u001b[0;34m\u001b[0m\u001b[0m\n\u001b[0m\u001b[1;32m      3\u001b[0m \u001b[0;34m\u001b[0m\u001b[0m\n\u001b[1;32m      4\u001b[0m \u001b[0;32mdef\u001b[0m \u001b[0mbkg\u001b[0m\u001b[0;34m(\u001b[0m\u001b[0mx\u001b[0m\u001b[0;34m,\u001b[0m \u001b[0mNorm\u001b[0m \u001b[0;34m=\u001b[0m \u001b[0mn_bkg_0\u001b[0m\u001b[0;34m,\u001b[0m \u001b[0malpha\u001b[0m \u001b[0;34m=\u001b[0m \u001b[0;36m80\u001b[0m\u001b[0;34m)\u001b[0m\u001b[0;34m:\u001b[0m\u001b[0;34m\u001b[0m\u001b[0;34m\u001b[0m\u001b[0m\n\u001b[1;32m      5\u001b[0m   \u001b[0;32mreturn\u001b[0m \u001b[0mNorm\u001b[0m\u001b[0;34m*\u001b[0m\u001b[0mnp\u001b[0m\u001b[0;34m.\u001b[0m\u001b[0mexp\u001b[0m\u001b[0;34m(\u001b[0m\u001b[0;34m-\u001b[0m\u001b[0mx\u001b[0m\u001b[0;34m/\u001b[0m\u001b[0malpha\u001b[0m\u001b[0;34m)\u001b[0m\u001b[0;34m\u001b[0m\u001b[0;34m\u001b[0m\u001b[0m\n",
      "\u001b[0;31mTypeError\u001b[0m: unsupported operand type(s) for -: 'list' and 'int'"
     ]
    },
    {
     "data": {
      "image/png": "[encoded data removed]",
      "text/plain": [
       "<Figure size 432x288 with 1 Axes>"
      ]
     },
     "metadata": {
      "needs_background": "light"
     },
     "output_type": "display_data"
    }
   ],
   "source": [
    "plt.hist(data, bins=n_bins, label='all data', color='black', histtype='step', range=(x_min, x_max))\n",
    "plt.plot(center_bins, total(center_bins, pars), label='fitted function', color='seagreen')"
   ]
  },
  {
   "cell_type": "markdown",
   "metadata": {},
   "source": [
    "# Signal Significance\n",
    "\n",
    "The signal significance is defined as\n",
    "\n",
    "$$\n",
    "S/\\sqrt{B}\\,,\n",
    "$$\n",
    "\n",
    "where\n",
    "\n",
    "$$\n",
    "\\begin{align}\n",
    "S &= \\int_a^b sig(m)\\, dm\\\\\n",
    "B &= \\int_a^b bkg(m)\\, dm\n",
    "\\end{align}\n",
    "$$\n",
    "\n",
    "with $a = m_{\\rm fitted} - 3\\sigma_{\\rm fitted}$ and $b = m_{\\rm fitted} + 3\\sigma_{\\rm fitted}$.\n",
    "\n",
    "Use [scipy.integrate.quad](https://docs.scipy.org/doc/scipy/reference/generated/scipy.integrate.quad.html) to compute the integral.\n",
    "\n",
    "The result of a call to `scipy.integrate.quad` is a list with two elements:\n",
    "1. the value of the integral\n",
    "1. its uncertainty\n",
    "\n",
    "## Compute $S$"
   ]
  },
  {
   "cell_type": "code",
   "execution_count": 63,
   "metadata": {},
   "outputs": [
    {
     "name": "stdout",
     "output_type": "stream",
     "text": [
      "Result of the integral S =  5728.723423808813 +/- 1.4156285033095628e-08\n"
     ]
    },
    {
     "name": "stderr",
     "output_type": "stream",
     "text": [
      "/var/folders/dr/0kfsv0410yqcv4gkk8gg9vbc0000gn/T/ipykernel_80414/3279042555.py:7: IntegrationWarning: The integral is probably divergent, or slowly convergent.\n",
      "  S_val, S_uncert = integrate.quad(s, fitted_m-3*sigma_m, fitted_m+3*sigma_m)\n"
     ]
    }
   ],
   "source": [
    "sigma_m = pars_cov[1,1]\n",
    "fitted_m = pars[1]\n",
    "\n",
    "def s(x):\n",
    "  return sig(x, Norm = pars[0], mean = fitted_m, width = sigma_m)\n",
    "\n",
    "S_val, S_uncert = integrate.quad(s, fitted_m-3*sigma_m, fitted_m+3*sigma_m)\n",
    "\n",
    "print(\"Result of the integral S = \", S_val, \"+/-\", S_uncert)"
   ]
  },
  {
   "cell_type": "markdown",
   "metadata": {},
   "source": [
    "## Compute $B$"
   ]
  },
  {
   "cell_type": "code",
   "execution_count": 64,
   "metadata": {},
   "outputs": [
    {
     "name": "stdout",
     "output_type": "stream",
     "text": [
      "Result of the integral B =  inf +/- inf\n"
     ]
    },
    {
     "name": "stderr",
     "output_type": "stream",
     "text": [
      "/var/folders/dr/0kfsv0410yqcv4gkk8gg9vbc0000gn/T/ipykernel_80414/4152483875.py:5: RuntimeWarning: overflow encountered in exp\n",
      "  return Norm*np.exp(-x/alpha)\n"
     ]
    }
   ],
   "source": [
    "def b(x):\n",
    "  return bkg(x, Norm = pars[3], alpha = pars[4])\n",
    "\n",
    "B_val, B_uncert = integrate.quad(b, fitted_m-3*sigma_m, fitted_m+3*sigma_m)\n",
    "\n",
    "print(\"Result of the integral B = \", B_val, \"+/-\", B_uncert)"
   ]
  },
  {
   "cell_type": "markdown",
   "metadata": {},
   "source": [
    "## Compute significance and print the result"
   ]
  },
  {
   "cell_type": "code",
   "execution_count": null,
   "metadata": {},
   "outputs": [],
   "source": []
  },
  {
   "cell_type": "markdown",
   "metadata": {},
   "source": [
    "# Exercise 1\n",
    "\n",
    "1. Fix the number of background events $N_B = 10000$ and vary the number of signal events $N_S$ in \n",
    " `[10, 50, 100, 500, 1000]`\n",
    "  - Plot the signficance as a function of $N_S$\n",
    "  - You can now change $N_B$ and generate the same plot and show the data for different values of $N_B$\n",
    "  - How does the significance depend on $N_S$ and $N_B$?"
   ]
  },
  {
   "cell_type": "code",
   "execution_count": 69,
   "metadata": {},
   "outputs": [
    {
     "name": "stderr",
     "output_type": "stream",
     "text": [
      "/Library/Frameworks/Python.framework/Versions/3.8/lib/python3.8/site-packages/scipy/optimize/minpack.py:833: OptimizeWarning: Covariance of the parameters could not be estimated\n",
      "  warnings.warn('Covariance of the parameters could not be estimated',\n",
      "/var/folders/dr/0kfsv0410yqcv4gkk8gg9vbc0000gn/T/ipykernel_80414/1740830068.py:47: IntegrationWarning: The integral is probably divergent, or slowly convergent.\n",
      "  S_val, S_uncert = integrate.quad(s, pars[1]-3*pars_cov[1,1], fitted_m+3*pars_cov[1,1])\n",
      "/var/folders/dr/0kfsv0410yqcv4gkk8gg9vbc0000gn/T/ipykernel_80414/1740830068.py:27: RuntimeWarning: overflow encountered in exp\n",
      "  return NormBkg*np.exp(-x/alpha)\n",
      "/Library/Frameworks/Python.framework/Versions/3.8/lib/python3.8/site-packages/scipy/optimize/minpack.py:833: OptimizeWarning: Covariance of the parameters could not be estimated\n",
      "  warnings.warn('Covariance of the parameters could not be estimated',\n",
      "/var/folders/dr/0kfsv0410yqcv4gkk8gg9vbc0000gn/T/ipykernel_80414/1740830068.py:47: IntegrationWarning: The integral is probably divergent, or slowly convergent.\n",
      "  S_val, S_uncert = integrate.quad(s, pars[1]-3*pars_cov[1,1], fitted_m+3*pars_cov[1,1])\n",
      "/var/folders/dr/0kfsv0410yqcv4gkk8gg9vbc0000gn/T/ipykernel_80414/1740830068.py:27: RuntimeWarning: overflow encountered in exp\n",
      "  return NormBkg*np.exp(-x/alpha)\n",
      "/Library/Frameworks/Python.framework/Versions/3.8/lib/python3.8/site-packages/scipy/optimize/minpack.py:833: OptimizeWarning: Covariance of the parameters could not be estimated\n",
      "  warnings.warn('Covariance of the parameters could not be estimated',\n",
      "/var/folders/dr/0kfsv0410yqcv4gkk8gg9vbc0000gn/T/ipykernel_80414/1740830068.py:47: IntegrationWarning: The integral is probably divergent, or slowly convergent.\n",
      "  S_val, S_uncert = integrate.quad(s, pars[1]-3*pars_cov[1,1], fitted_m+3*pars_cov[1,1])\n",
      "/var/folders/dr/0kfsv0410yqcv4gkk8gg9vbc0000gn/T/ipykernel_80414/1740830068.py:27: RuntimeWarning: overflow encountered in exp\n",
      "  return NormBkg*np.exp(-x/alpha)\n",
      "/Library/Frameworks/Python.framework/Versions/3.8/lib/python3.8/site-packages/scipy/optimize/minpack.py:833: OptimizeWarning: Covariance of the parameters could not be estimated\n",
      "  warnings.warn('Covariance of the parameters could not be estimated',\n",
      "/var/folders/dr/0kfsv0410yqcv4gkk8gg9vbc0000gn/T/ipykernel_80414/1740830068.py:47: IntegrationWarning: The integral is probably divergent, or slowly convergent.\n",
      "  S_val, S_uncert = integrate.quad(s, pars[1]-3*pars_cov[1,1], fitted_m+3*pars_cov[1,1])\n",
      "/var/folders/dr/0kfsv0410yqcv4gkk8gg9vbc0000gn/T/ipykernel_80414/1740830068.py:27: RuntimeWarning: overflow encountered in exp\n",
      "  return NormBkg*np.exp(-x/alpha)\n",
      "/Library/Frameworks/Python.framework/Versions/3.8/lib/python3.8/site-packages/scipy/optimize/minpack.py:833: OptimizeWarning: Covariance of the parameters could not be estimated\n",
      "  warnings.warn('Covariance of the parameters could not be estimated',\n",
      "/var/folders/dr/0kfsv0410yqcv4gkk8gg9vbc0000gn/T/ipykernel_80414/1740830068.py:47: IntegrationWarning: The integral is probably divergent, or slowly convergent.\n",
      "  S_val, S_uncert = integrate.quad(s, pars[1]-3*pars_cov[1,1], fitted_m+3*pars_cov[1,1])\n",
      "/var/folders/dr/0kfsv0410yqcv4gkk8gg9vbc0000gn/T/ipykernel_80414/1740830068.py:27: RuntimeWarning: overflow encountered in exp\n",
      "  return NormBkg*np.exp(-x/alpha)\n"
     ]
    },
    {
     "name": "stdout",
     "output_type": "stream",
     "text": [
      "[-0.0, -0.0, -0.0, -0.0, -0.0]\n"
     ]
    },
    {
     "data": {
      "image/png": "[encoded data removed]",
      "text/plain": [
       "<Figure size 432x288 with 1 Axes>"
      ]
     },
     "metadata": {
      "needs_background": "light"
     },
     "output_type": "display_data"
    }
   ],
   "source": [
    "x_min = 0    # GeV\n",
    "x_max = 200  # GeV\n",
    "n_bins = 100\n",
    "bin_width = (x_max-x_min)/n_bins # GeV\n",
    "\n",
    "n_bkg = int(1e4)\n",
    "n_sig_array = [10, 50, 100, 500, 1000]\n",
    "\n",
    "background = np.random.exponential(80, n_bkg)\n",
    "\n",
    "significance = []\n",
    "\n",
    "def data_generation(n_sig):\n",
    "  # signal generation\n",
    "  signal = [np.random.normal(m_sig, w_sig) for i in range(n_sig)]\n",
    "  # data\n",
    "  data = np.concatenate((signal,background))\n",
    "  # binned_data for fit\n",
    "  binned_data, bins, _ = plt.hist(data, bins=n_bins, label='all data', color='black', histtype='step', range=(x_min, x_max))\n",
    "  \n",
    "  return binned_data, bins\n",
    "\n",
    "def sig(x, NormSig = n_sig, mean = m_sig, width = w_sig):\n",
    "  return NormSig*np.exp(-(x-mean)*(x-mean)/(2*width*width))\n",
    "                     \n",
    "def bkg(x, NormBkg = n_bkg, alpha = 80):\n",
    "  return NormBkg*np.exp(-x/alpha)\n",
    "\n",
    "def total(x, NormSigBkg = n_sig, mean = m_sig, width = w_sig, NormBkg = n_bkg, alpha = 80):\n",
    "  return sig(x, NormSig = n_sig, mean = m_sig, width = w_sig) + bkg(x, NormBkg = n_bkg, alpha = 80)\n",
    "\n",
    "for n_sig in n_sig_array:\n",
    "   \n",
    "  binned_data, bins = data_generation(n_sig)\n",
    "  \n",
    "  center_bins = list(bins + bin_width/2)\n",
    "  center_bins.pop()\n",
    "    \n",
    "  pars, pars_cov = opt.curve_fit(total, center_bins, binned_data, p0=[n_sig, m_sig, w_sig, n_bkg, 80])\n",
    "  \n",
    "  def s(x):\n",
    "    return sig(x, NormSig = pars[0], mean = fitted_m, width = sigma_m)\n",
    "  \n",
    "  def b(x):\n",
    "    return bkg(x, NormBkg = pars[3], alpha = pars[4])\n",
    "  \n",
    "  S_val, S_uncert = integrate.quad(s, pars[1]-3*pars_cov[1,1], fitted_m+3*pars_cov[1,1])\n",
    "\n",
    "  B_val, B_uncert = integrate.quad(b, pars[1]-3*pars_cov[1,1], fitted_m+3*pars_cov[1,1])\n",
    "\n",
    "  significance.append(S_val/np.sqrt(B_val))\n",
    "  \n",
    "print(significance)\n",
    "  \n",
    "  "
   ]
  },
  {
   "cell_type": "markdown",
   "metadata": {},
   "source": [
    "# Exercise 2\n",
    "\n",
    "2. Fix $N_B = 10000$ and $N_S = 200$. Vary the mass width in `[0.01, 0.2, 0.05, 0.10, 0.20, 0.50]`\n",
    "  - Plot the significance as a function of the mass width \n",
    "  - Which mass width provide the best signal significance?"
   ]
  },
  {
   "cell_type": "code",
   "execution_count": null,
   "metadata": {},
   "outputs": [],
   "source": []
  },
  {
   "cell_type": "markdown",
   "metadata": {},
   "source": [
    "# Exercise 3\n",
    "\n",
    "\n",
    "3. Fix $N_B = 10000$ and $N_S = 200$ and repeat the experiments 1000 times\n",
    "  - For each experiment generate the number of signal and background events from a Poisson distribution\n",
    "    - mean of signal events: 200\n",
    "    - mean of background events: 10000\n",
    "  - Compute the significance for each experiment\n",
    "  - Plot the distribution of significance for all experiments\n",
    "  - Plot the distribution of $m_{fitted} - m_H$ for all experiments\n",
    "  - Fit to a Gaussian and print the fitted $\\mu$ and $\\sigma$"
   ]
  },
  {
   "cell_type": "code",
   "execution_count": null,
   "metadata": {},
   "outputs": [],
   "source": []
  }
 ],
 "metadata": {
  "kernelspec": {
   "display_name": "Python 3 (ipykernel)",
   "language": "python",
   "name": "python3"
  },
  "language_info": {
   "codemirror_mode": {
    "name": "ipython",
    "version": 3
   },
   "file_extension": ".py",
   "mimetype": "text/x-python",
   "name": "python",
   "nbconvert_exporter": "python",
   "pygments_lexer": "ipython3",
   "version": "3.8.2"
  }
 },
 "nbformat": 4,
 "nbformat_minor": 4
}
