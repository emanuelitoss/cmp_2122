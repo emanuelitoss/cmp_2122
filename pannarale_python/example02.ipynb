{
 "cells": [
  {
   "cell_type": "markdown",
   "metadata": {
    "id": "Jqd8LDbyIu8g"
   },
   "source": [
    "# This notebook is a very first intruction to Jupyter notebooks and to Python."
   ]
  },
  {
   "cell_type": "markdown",
   "metadata": {
    "id": "CPaWktLTa_C1"
   },
   "source": [
    "# Text cells with Markdown\n",
    "\n",
    "\n",
    "This cell contains text.\n",
    "\n",
    "You can use Markdown commands for formatting: follow [this link](https://github.com/adam-p/markdown-here/wiki/Markdown-Cheatsheet) for a Markdown cheatsheet.\n",
    "\n",
    "\n",
    "# Header 1\n",
    "\n",
    "## Header 2\n",
    "\n",
    "### Header 3\n",
    "\n",
    "Unordered and ordered lists\n",
    "  - Function\n",
    "    - Gauss\n",
    "    - Line\n",
    "    - Poly\n",
    "  - Integrator\n",
    "    1. MC method\n",
    "    1. Simpson\n",
    "       - parameters\n",
    "    1. Rectangles\n",
    "\n",
    "$\\LaTeX$ works too!  $\\boxed{G_{\\mu\\nu} = {{8\\pi G}\\over {c^4}} T_{\\mu\\nu}}$"
   ]
  },
  {
   "cell_type": "markdown",
   "metadata": {
    "id": "R9X-rOBMa_C5"
   },
   "source": [
    "# First example with Jupyter\n",
    "\n",
    "We will redo example01.py interactively with Jupyter.\n",
    "\n",
    "Remember: to use a notebook interactively, you must open it with Jupyter from commands line: `jupyter notebook example02.ipynb`"
   ]
  },
  {
   "cell_type": "code",
   "execution_count": 1,
   "metadata": {
    "executionInfo": {
     "elapsed": 314,
     "status": "ok",
     "timestamp": 1636451416831,
     "user": {
      "displayName": "Francesco Pannarale",
      "photoUrl": "https://lh3.googleusercontent.com/a/default-user=s64",
      "userId": "04296007763837408065"
     },
     "user_tz": -60
    },
    "id": "Zb58qL2pa_C6"
   },
   "outputs": [],
   "source": [
    "# Let's change the numbers a little, for some extra fun\n",
    "# Yes, in code blocks, unlike markedown blocks, # begins a comments\n",
    "a = -2.11\n",
    "b = 4232345.5\n",
    "c = a/b"
   ]
  },
  {
   "cell_type": "markdown",
   "metadata": {
    "id": "LfHnjDZja_C8"
   },
   "source": [
    "Now you can use the previous variables and continue with your program\n",
    "\n",
    "To execuate a cell (code or text) click on `Run` in the top menu or press `Shift + Return`"
   ]
  },
  {
   "cell_type": "code",
   "execution_count": 2,
   "metadata": {
    "colab": {
     "base_uri": "https://localhost:8080/"
    },
    "executionInfo": {
     "elapsed": 4,
     "status": "ok",
     "timestamp": 1636451417875,
     "user": {
      "displayName": "Francesco Pannarale",
      "photoUrl": "https://lh3.googleusercontent.com/a/default-user=s64",
      "userId": "04296007763837408065"
     },
     "user_tz": -60
    },
    "id": "UklpxFEAa_C9",
    "outputId": "913e68be-a56c-4089-eff9-7d581f34e9c5"
   },
   "outputs": [
    {
     "name": "stdout",
     "output_type": "stream",
     "text": [
      "-21.099999999999998 4232345.5 -4.98541529749875e-07\n"
     ]
    }
   ],
   "source": [
    "# Plain print (of several varibles, with math operaton in arguments!)\n",
    "print(a*10,b,c)"
   ]
  },
  {
   "cell_type": "code",
   "execution_count": 3,
   "metadata": {
    "colab": {
     "base_uri": "https://localhost:8080/"
    },
    "executionInfo": {
     "elapsed": 240,
     "status": "ok",
     "timestamp": 1636451669579,
     "user": {
      "displayName": "Francesco Pannarale",
      "photoUrl": "https://lh3.googleusercontent.com/a/default-user=s64",
      "userId": "04296007763837408065"
     },
     "user_tz": -60
    },
    "id": "u45YfGUca_C-",
    "outputId": "06497c66-0abf-4f0c-c294-720790744e5b"
   },
   "outputs": [
    {
     "name": "stdout",
     "output_type": "stream",
     "text": [
      "c = a/b = -4.98541529749875e-07\n"
     ]
    }
   ],
   "source": [
    "# Plain print of more variable types\n",
    "print('c = a/b =', c)"
   ]
  },
  {
   "cell_type": "markdown",
   "metadata": {
    "id": "zarPoX_4a_C-"
   },
   "source": [
    "## Formatting with old C-style `printf`"
   ]
  },
  {
   "cell_type": "code",
   "execution_count": 4,
   "metadata": {
    "colab": {
     "base_uri": "https://localhost:8080/"
    },
    "executionInfo": {
     "elapsed": 227,
     "status": "ok",
     "timestamp": 1636451674885,
     "user": {
      "displayName": "Francesco Pannarale",
      "photoUrl": "https://lh3.googleusercontent.com/a/default-user=s64",
      "userId": "04296007763837408065"
     },
     "user_tz": -60
    },
    "id": "N-UFP09Xa_C_",
    "outputId": "d9a08e81-9993-40b1-c583-cb85c53aa756"
   },
   "outputs": [
    {
     "name": "stdout",
     "output_type": "stream",
     "text": [
      "a = -2.110, b = 4.23e+06, c = -5e-07\n"
     ]
    }
   ],
   "source": [
    "print('a = %.3f, b = %.3g, c = %4.1g' % (a,b,c))"
   ]
  },
  {
   "cell_type": "markdown",
   "metadata": {
    "id": "x3LaAJzga_C_"
   },
   "source": [
    "## Formatting with new Python style\n",
    "\n",
    "Treat the string object and call  the `format()` member function."
   ]
  },
  {
   "cell_type": "code",
   "execution_count": 5,
   "metadata": {
    "colab": {
     "base_uri": "https://localhost:8080/"
    },
    "executionInfo": {
     "elapsed": 249,
     "status": "ok",
     "timestamp": 1636451707686,
     "user": {
      "displayName": "Francesco Pannarale",
      "photoUrl": "https://lh3.googleusercontent.com/a/default-user=s64",
      "userId": "04296007763837408065"
     },
     "user_tz": -60
    },
    "id": "bmqKpgFta_C_",
    "outputId": "476d7120-5155-485f-d4ec-7fff596c3a29"
   },
   "outputs": [
    {
     "name": "stdout",
     "output_type": "stream",
     "text": [
      "a = -2.11, b = 4232345.5, c = -4.98541529749875e-07\n",
      "a = -2.11, b = 4232345.5, c = -4.98541529749875e-07\n",
      "a = -4.98541529749875e-07, b = 4232345.5, c = -2.11\n"
     ]
    }
   ],
   "source": [
    "# Print using ''\n",
    "print('a = {0}, b = {1}, c = {2}'.format(a, b, c))\n",
    "\n",
    "# Print using \"\"\n",
    "print(\"a = {0}, b = {1}, c = {2}\".format(a, b, c))\n",
    "\n",
    "# Print using ''\n",
    "print('a = {2}, b = {1}, c = {0}'.format(a, b, c))"
   ]
  },
  {
   "cell_type": "markdown",
   "metadata": {
    "id": "OLobG4tDa_DA"
   },
   "source": [
    "In the above we are treating `'a = {0}, b = {1}, c = {2}'` as an object by applying the `format()` method to it.\n",
    "\n",
    "\n",
    "__NB__: the output with `print` is slightly diffrent from the one with interactive Python from command line. \n",
    "\n",
    "\n",
    "### Positional formatting\n",
    "We can specify the format for each element in `format()` or even give names to the varibales to be printed"
   ]
  },
  {
   "cell_type": "code",
   "execution_count": 6,
   "metadata": {
    "colab": {
     "base_uri": "https://localhost:8080/"
    },
    "executionInfo": {
     "elapsed": 250,
     "status": "ok",
     "timestamp": 1636451741358,
     "user": {
      "displayName": "Francesco Pannarale",
      "photoUrl": "https://lh3.googleusercontent.com/a/default-user=s64",
      "userId": "04296007763837408065"
     },
     "user_tz": -60
    },
    "id": "EVsxpqTca_DA",
    "outputId": "51a1ed05-15d9-4684-ad98-1909b25767cc"
   },
   "outputs": [
    {
     "name": "stdout",
     "output_type": "stream",
     "text": [
      "a = -2.110, b = 4.23e+06, c = -4.985e-07\n",
      "value = -1.235, error = 0.1, #measurement = 1000\n"
     ]
    }
   ],
   "source": [
    "# Python style formatted output: {position:format}\n",
    "# format syntax: minimum width . significant digits (for g), digits after the point (for f)\n",
    "print('a = {0:.3f}, b = {1:.3g}, c = {2:2.4g}'.format(a, b, c))\n",
    "\n",
    "# Woah... internal variable names on the fly without separate declarations\n",
    "print('value = {v:.3f}, error = {err:.3g}, #measurement = {N:3d}'.format(N=1000, v=-1.23454335, err=0.1))"
   ]
  },
  {
   "cell_type": "markdown",
   "metadata": {
    "id": "-zKN7z80a_DB"
   },
   "source": [
    "# Interactive help\n",
    "\n",
    "You can invoke the inline help by using `?` with any object or `help()`"
   ]
  },
  {
   "cell_type": "code",
   "execution_count": 7,
   "metadata": {
    "executionInfo": {
     "elapsed": 275,
     "status": "ok",
     "timestamp": 1636451744299,
     "user": {
      "displayName": "Francesco Pannarale",
      "photoUrl": "https://lh3.googleusercontent.com/a/default-user=s64",
      "userId": "04296007763837408065"
     },
     "user_tz": -60
    },
    "id": "ZzYZps_Ga_DB"
   },
   "outputs": [],
   "source": [
    "c?"
   ]
  },
  {
   "cell_type": "code",
   "execution_count": 8,
   "metadata": {
    "executionInfo": {
     "elapsed": 1,
     "status": "ok",
     "timestamp": 1636451744562,
     "user": {
      "displayName": "Francesco Pannarale",
      "photoUrl": "https://lh3.googleusercontent.com/a/default-user=s64",
      "userId": "04296007763837408065"
     },
     "user_tz": -60
    },
    "id": "3CfqOYaGa_DC"
   },
   "outputs": [],
   "source": [
    "print?"
   ]
  },
  {
   "cell_type": "code",
   "execution_count": 9,
   "metadata": {
    "colab": {
     "base_uri": "https://localhost:8080/"
    },
    "executionInfo": {
     "elapsed": 277,
     "status": "ok",
     "timestamp": 1636451747231,
     "user": {
      "displayName": "Francesco Pannarale",
      "photoUrl": "https://lh3.googleusercontent.com/a/default-user=s64",
      "userId": "04296007763837408065"
     },
     "user_tz": -60
    },
    "id": "d4CeoOiya_DC",
    "outputId": "ee6e292b-7179-4532-94e6-59119f6670ff"
   },
   "outputs": [
    {
     "name": "stdout",
     "output_type": "stream",
     "text": [
      "Help on built-in function print in module builtins:\n",
      "\n",
      "print(...)\n",
      "    print(value, ..., sep=' ', end='\\n', file=sys.stdout, flush=False)\n",
      "    \n",
      "    Prints the values to a stream, or to sys.stdout by default.\n",
      "    Optional keyword arguments:\n",
      "    file:  a file-like object (stream); defaults to the current sys.stdout.\n",
      "    sep:   string inserted between values, default a space.\n",
      "    end:   string appended after the last value, default a newline.\n",
      "    flush: whether to forcibly flush the stream.\n",
      "\n"
     ]
    }
   ],
   "source": [
    "help(print)"
   ]
  },
  {
   "cell_type": "markdown",
   "metadata": {
    "id": "pQ4OSc3xa_DD"
   },
   "source": [
    "# More string formatting"
   ]
  },
  {
   "cell_type": "code",
   "execution_count": 10,
   "metadata": {
    "colab": {
     "base_uri": "https://localhost:8080/"
    },
    "executionInfo": {
     "elapsed": 248,
     "status": "ok",
     "timestamp": 1636451750686,
     "user": {
      "displayName": "Francesco Pannarale",
      "photoUrl": "https://lh3.googleusercontent.com/a/default-user=s64",
      "userId": "04296007763837408065"
     },
     "user_tz": -60
    },
    "id": "1Jr6nlifa_DD",
    "outputId": "0f316ff3-60d8-4ca0-b51c-a1f1b0026577"
   },
   "outputs": [
    {
     "name": "stdout",
     "output_type": "stream",
     "text": [
      "HELLO ALL!\n"
     ]
    }
   ],
   "source": [
    "x = \"hello all!\"\n",
    "print(x.upper())"
   ]
  },
  {
   "cell_type": "code",
   "execution_count": 11,
   "metadata": {
    "colab": {
     "base_uri": "https://localhost:8080/"
    },
    "executionInfo": {
     "elapsed": 5,
     "status": "ok",
     "timestamp": 1636451751413,
     "user": {
      "displayName": "Francesco Pannarale",
      "photoUrl": "https://lh3.googleusercontent.com/a/default-user=s64",
      "userId": "04296007763837408065"
     },
     "user_tz": -60
    },
    "id": "9TYxH8fFa_DE",
    "outputId": "99f55452-22cb-4afc-a0e4-1e09908c6fab"
   },
   "outputs": [
    {
     "name": "stdout",
     "output_type": "stream",
     "text": [
      "HELLO ALL!\n",
      "hello all!\n"
     ]
    }
   ],
   "source": [
    "y = x.upper()\n",
    "print(y)\n",
    "print(y.lower())"
   ]
  },
  {
   "cell_type": "markdown",
   "metadata": {
    "id": "7dX-mgBzIFmP"
   },
   "source": [
    "The methods called above did not modify `x` but only the local arguments of the `print` calls."
   ]
  },
  {
   "cell_type": "code",
   "execution_count": 12,
   "metadata": {
    "colab": {
     "base_uri": "https://localhost:8080/"
    },
    "executionInfo": {
     "elapsed": 241,
     "status": "ok",
     "timestamp": 1636451805310,
     "user": {
      "displayName": "Francesco Pannarale",
      "photoUrl": "https://lh3.googleusercontent.com/a/default-user=s64",
      "userId": "04296007763837408065"
     },
     "user_tz": -60
    },
    "id": "14bCEC_-a_DE",
    "outputId": "052bd233-f7bb-4eee-8567-009b13f39be9"
   },
   "outputs": [
    {
     "name": "stdout",
     "output_type": "stream",
     "text": [
      "hello all!\n"
     ]
    }
   ],
   "source": [
    "print(x)"
   ]
  },
  {
   "cell_type": "markdown",
   "metadata": {
    "id": "wsjvkFixa_DE"
   },
   "source": [
    "## Iteration in Python\n",
    "\n",
    "The `for` loop uses the `range(a,b,s)` function to generate values from `a` to `b` (excluded) with steps of `s`.\n",
    "\n",
    "Here is what `range` does"
   ]
  },
  {
   "cell_type": "code",
   "execution_count": 13,
   "metadata": {
    "colab": {
     "base_uri": "https://localhost:8080/"
    },
    "executionInfo": {
     "elapsed": 244,
     "status": "ok",
     "timestamp": 1636451848408,
     "user": {
      "displayName": "Francesco Pannarale",
      "photoUrl": "https://lh3.googleusercontent.com/a/default-user=s64",
      "userId": "04296007763837408065"
     },
     "user_tz": -60
    },
    "id": "-qqATyoR3O3g",
    "outputId": "322c53af-bc16-4591-f66c-9c7d15c54341"
   },
   "outputs": [
    {
     "name": "stdout",
     "output_type": "stream",
     "text": [
      "[0, 2, 4, 6, 8, 10, 12, 14, 16, 18]\n"
     ]
    }
   ],
   "source": [
    "a = list(range(0,20,2))\n",
    "print(a)"
   ]
  },
  {
   "cell_type": "markdown",
   "metadata": {
    "id": "1sgPybFrIVfE"
   },
   "source": [
    "**INDENTATION is crucial for code structure in Python**\n",
    "\n",
    "The instructions for each iteration of a `for` loop **must** be indented."
   ]
  },
  {
   "cell_type": "code",
   "execution_count": 14,
   "metadata": {
    "colab": {
     "base_uri": "https://localhost:8080/"
    },
    "executionInfo": {
     "elapsed": 226,
     "status": "ok",
     "timestamp": 1636451897762,
     "user": {
      "displayName": "Francesco Pannarale",
      "photoUrl": "https://lh3.googleusercontent.com/a/default-user=s64",
      "userId": "04296007763837408065"
     },
     "user_tz": -60
    },
    "id": "R9qT4Gz8a_DF",
    "outputId": "5732e95a-e6d6-47ec-c022-e09ecf73f72d"
   },
   "outputs": [
    {
     "name": "stdout",
     "output_type": "stream",
     "text": [
      "i = 0\n",
      "i = 2\n",
      "i = 4\n",
      "i = 6\n",
      "i = 8\n",
      "i = 10\n",
      "i = 12\n",
      "i = 14\n",
      "i = 16\n",
      "i = 18\n",
      "after the loop: i =    18\n"
     ]
    }
   ],
   "source": [
    "for i in range(0,20,2):\n",
    "    # Try removing the indentation and you will receive a complaint\n",
    "    print(\"i = {0}\".format(i))\n",
    "\n",
    "print(\"after the loop: i = {0:5d}\".format(i))   "
   ]
  },
  {
   "cell_type": "markdown",
   "metadata": {
    "id": "ENLm7r8ya_DF"
   },
   "source": [
    "##  Math library\n",
    "\n",
    "All usual mathematical functions are in the `math` **module**.\n",
    "We will take a closer look at modules in the next lectures."
   ]
  },
  {
   "cell_type": "code",
   "execution_count": 15,
   "metadata": {
    "colab": {
     "base_uri": "https://localhost:8080/"
    },
    "executionInfo": {
     "elapsed": 252,
     "status": "ok",
     "timestamp": 1636452018620,
     "user": {
      "displayName": "Francesco Pannarale",
      "photoUrl": "https://lh3.googleusercontent.com/a/default-user=s64",
      "userId": "04296007763837408065"
     },
     "user_tz": -60
    },
    "id": "LLVIeErDa_DF",
    "outputId": "c171b2a3-fe38-4c8b-f3ed-9101dfbd44da"
   },
   "outputs": [
    {
     "name": "stdout",
     "output_type": "stream",
     "text": [
      "x= 4.242640687119285\n"
     ]
    }
   ],
   "source": [
    "import math\n",
    "\n",
    "x = math.sqrt(i)\n",
    "print('x=', x)"
   ]
  },
  {
   "cell_type": "markdown",
   "metadata": {
    "id": "22-Q42Aja_DG"
   },
   "source": [
    "Note that the `sqrt` function belongs to the `math` namespace, so you need to explicitly use `math.sqrt()`"
   ]
  },
  {
   "cell_type": "markdown",
   "metadata": {
    "id": "fu08sOqFa_DH"
   },
   "source": [
    "For additional information about the `math` module, use the inline command."
   ]
  },
  {
   "cell_type": "code",
   "execution_count": 16,
   "metadata": {
    "colab": {
     "base_uri": "https://localhost:8080/"
    },
    "executionInfo": {
     "elapsed": 251,
     "status": "ok",
     "timestamp": 1636447645504,
     "user": {
      "displayName": "Francesco Pannarale",
      "photoUrl": "https://lh3.googleusercontent.com/a/default-user=s64",
      "userId": "04296007763837408065"
     },
     "user_tz": -60
    },
    "id": "ydYRLDXHa_DH",
    "outputId": "ca58d4dd-6c53-4ae9-9280-2cba179c0107"
   },
   "outputs": [
    {
     "name": "stdout",
     "output_type": "stream",
     "text": [
      "Help on module math:\n",
      "\n",
      "NAME\n",
      "    math\n",
      "\n",
      "MODULE REFERENCE\n",
      "    https://docs.python.org/3.8/library/math\n",
      "    \n",
      "    The following documentation is automatically generated from the Python\n",
      "    source files.  It may be incomplete, incorrect or include features that\n",
      "    are considered implementation detail and may vary between Python\n",
      "    implementations.  When in doubt, consult the module reference at the\n",
      "    location listed above.\n",
      "\n",
      "DESCRIPTION\n",
      "    This module provides access to the mathematical functions\n",
      "    defined by the C standard.\n",
      "\n",
      "FUNCTIONS\n",
      "    acos(x, /)\n",
      "        Return the arc cosine (measured in radians) of x.\n",
      "    \n",
      "    acosh(x, /)\n",
      "        Return the inverse hyperbolic cosine of x.\n",
      "    \n",
      "    asin(x, /)\n",
      "        Return the arc sine (measured in radians) of x.\n",
      "    \n",
      "    asinh(x, /)\n",
      "        Return the inverse hyperbolic sine of x.\n",
      "    \n",
      "    atan(x, /)\n",
      "        Return the arc tangent (measured in radians) of x.\n",
      "    \n",
      "    atan2(y, x, /)\n",
      "        Return the arc tangent (measured in radians) of y/x.\n",
      "        \n",
      "        Unlike atan(y/x), the signs of both x and y are considered.\n",
      "    \n",
      "    atanh(x, /)\n",
      "        Return the inverse hyperbolic tangent of x.\n",
      "    \n",
      "    ceil(x, /)\n",
      "        Return the ceiling of x as an Integral.\n",
      "        \n",
      "        This is the smallest integer >= x.\n",
      "    \n",
      "    comb(n, k, /)\n",
      "        Number of ways to choose k items from n items without repetition and without order.\n",
      "        \n",
      "        Evaluates to n! / (k! * (n - k)!) when k <= n and evaluates\n",
      "        to zero when k > n.\n",
      "        \n",
      "        Also called the binomial coefficient because it is equivalent\n",
      "        to the coefficient of k-th term in polynomial expansion of the\n",
      "        expression (1 + x)**n.\n",
      "        \n",
      "        Raises TypeError if either of the arguments are not integers.\n",
      "        Raises ValueError if either of the arguments are negative.\n",
      "    \n",
      "    copysign(x, y, /)\n",
      "        Return a float with the magnitude (absolute value) of x but the sign of y.\n",
      "        \n",
      "        On platforms that support signed zeros, copysign(1.0, -0.0)\n",
      "        returns -1.0.\n",
      "    \n",
      "    cos(x, /)\n",
      "        Return the cosine of x (measured in radians).\n",
      "    \n",
      "    cosh(x, /)\n",
      "        Return the hyperbolic cosine of x.\n",
      "    \n",
      "    degrees(x, /)\n",
      "        Convert angle x from radians to degrees.\n",
      "    \n",
      "    dist(p, q, /)\n",
      "        Return the Euclidean distance between two points p and q.\n",
      "        \n",
      "        The points should be specified as sequences (or iterables) of\n",
      "        coordinates.  Both inputs must have the same dimension.\n",
      "        \n",
      "        Roughly equivalent to:\n",
      "            sqrt(sum((px - qx) ** 2.0 for px, qx in zip(p, q)))\n",
      "    \n",
      "    erf(x, /)\n",
      "        Error function at x.\n",
      "    \n",
      "    erfc(x, /)\n",
      "        Complementary error function at x.\n",
      "    \n",
      "    exp(x, /)\n",
      "        Return e raised to the power of x.\n",
      "    \n",
      "    expm1(x, /)\n",
      "        Return exp(x)-1.\n",
      "        \n",
      "        This function avoids the loss of precision involved in the direct evaluation of exp(x)-1 for small x.\n",
      "    \n",
      "    fabs(x, /)\n",
      "        Return the absolute value of the float x.\n",
      "    \n",
      "    factorial(x, /)\n",
      "        Find x!.\n",
      "        \n",
      "        Raise a ValueError if x is negative or non-integral.\n",
      "    \n",
      "    floor(x, /)\n",
      "        Return the floor of x as an Integral.\n",
      "        \n",
      "        This is the largest integer <= x.\n",
      "    \n",
      "    fmod(x, y, /)\n",
      "        Return fmod(x, y), according to platform C.\n",
      "        \n",
      "        x % y may differ.\n",
      "    \n",
      "    frexp(x, /)\n",
      "        Return the mantissa and exponent of x, as pair (m, e).\n",
      "        \n",
      "        m is a float and e is an int, such that x = m * 2.**e.\n",
      "        If x is 0, m and e are both 0.  Else 0.5 <= abs(m) < 1.0.\n",
      "    \n",
      "    fsum(seq, /)\n",
      "        Return an accurate floating point sum of values in the iterable seq.\n",
      "        \n",
      "        Assumes IEEE-754 floating point arithmetic.\n",
      "    \n",
      "    gamma(x, /)\n",
      "        Gamma function at x.\n",
      "    \n",
      "    gcd(x, y, /)\n",
      "        greatest common divisor of x and y\n",
      "    \n",
      "    hypot(...)\n",
      "        hypot(*coordinates) -> value\n",
      "        \n",
      "        Multidimensional Euclidean distance from the origin to a point.\n",
      "        \n",
      "        Roughly equivalent to:\n",
      "            sqrt(sum(x**2 for x in coordinates))\n",
      "        \n",
      "        For a two dimensional point (x, y), gives the hypotenuse\n",
      "        using the Pythagorean theorem:  sqrt(x*x + y*y).\n",
      "        \n",
      "        For example, the hypotenuse of a 3/4/5 right triangle is:\n",
      "        \n",
      "            >>> hypot(3.0, 4.0)\n",
      "            5.0\n",
      "    \n",
      "    isclose(a, b, *, rel_tol=1e-09, abs_tol=0.0)\n",
      "        Determine whether two floating point numbers are close in value.\n",
      "        \n",
      "          rel_tol\n",
      "            maximum difference for being considered \"close\", relative to the\n",
      "            magnitude of the input values\n",
      "          abs_tol\n",
      "            maximum difference for being considered \"close\", regardless of the\n",
      "            magnitude of the input values\n",
      "        \n",
      "        Return True if a is close in value to b, and False otherwise.\n",
      "        \n",
      "        For the values to be considered close, the difference between them\n",
      "        must be smaller than at least one of the tolerances.\n",
      "        \n",
      "        -inf, inf and NaN behave similarly to the IEEE 754 Standard.  That\n",
      "        is, NaN is not close to anything, even itself.  inf and -inf are\n",
      "        only close to themselves.\n",
      "    \n",
      "    isfinite(x, /)\n",
      "        Return True if x is neither an infinity nor a NaN, and False otherwise.\n",
      "    \n",
      "    isinf(x, /)\n",
      "        Return True if x is a positive or negative infinity, and False otherwise.\n",
      "    \n",
      "    isnan(x, /)\n",
      "        Return True if x is a NaN (not a number), and False otherwise.\n",
      "    \n",
      "    isqrt(n, /)\n",
      "        Return the integer part of the square root of the input.\n",
      "    \n",
      "    ldexp(x, i, /)\n",
      "        Return x * (2**i).\n",
      "        \n",
      "        This is essentially the inverse of frexp().\n",
      "    \n",
      "    lgamma(x, /)\n",
      "        Natural logarithm of absolute value of Gamma function at x.\n",
      "    \n",
      "    log(...)\n",
      "        log(x, [base=math.e])\n",
      "        Return the logarithm of x to the given base.\n",
      "        \n",
      "        If the base not specified, returns the natural logarithm (base e) of x.\n",
      "    \n",
      "    log10(x, /)\n",
      "        Return the base 10 logarithm of x.\n",
      "    \n",
      "    log1p(x, /)\n",
      "        Return the natural logarithm of 1+x (base e).\n",
      "        \n",
      "        The result is computed in a way which is accurate for x near zero.\n",
      "    \n",
      "    log2(x, /)\n",
      "        Return the base 2 logarithm of x.\n",
      "    \n",
      "    modf(x, /)\n",
      "        Return the fractional and integer parts of x.\n",
      "        \n",
      "        Both results carry the sign of x and are floats.\n",
      "    \n",
      "    perm(n, k=None, /)\n",
      "        Number of ways to choose k items from n items without repetition and with order.\n",
      "        \n",
      "        Evaluates to n! / (n - k)! when k <= n and evaluates\n",
      "        to zero when k > n.\n",
      "        \n",
      "        If k is not specified or is None, then k defaults to n\n",
      "        and the function returns n!.\n",
      "        \n",
      "        Raises TypeError if either of the arguments are not integers.\n",
      "        Raises ValueError if either of the arguments are negative.\n",
      "    \n",
      "    pow(x, y, /)\n",
      "        Return x**y (x to the power of y).\n",
      "    \n",
      "    prod(iterable, /, *, start=1)\n",
      "        Calculate the product of all the elements in the input iterable.\n",
      "        \n",
      "        The default start value for the product is 1.\n",
      "        \n",
      "        When the iterable is empty, return the start value.  This function is\n",
      "        intended specifically for use with numeric values and may reject\n",
      "        non-numeric types.\n",
      "    \n",
      "    radians(x, /)\n",
      "        Convert angle x from degrees to radians.\n",
      "    \n",
      "    remainder(x, y, /)\n",
      "        Difference between x and the closest integer multiple of y.\n",
      "        \n",
      "        Return x - n*y where n*y is the closest integer multiple of y.\n",
      "        In the case where x is exactly halfway between two multiples of\n",
      "        y, the nearest even value of n is used. The result is always exact.\n",
      "    \n",
      "    sin(x, /)\n",
      "        Return the sine of x (measured in radians).\n",
      "    \n",
      "    sinh(x, /)\n",
      "        Return the hyperbolic sine of x.\n",
      "    \n",
      "    sqrt(x, /)\n",
      "        Return the square root of x.\n",
      "    \n",
      "    tan(x, /)\n",
      "        Return the tangent of x (measured in radians).\n",
      "    \n",
      "    tanh(x, /)\n",
      "        Return the hyperbolic tangent of x.\n",
      "    \n",
      "    trunc(x, /)\n",
      "        Truncates the Real x to the nearest Integral toward 0.\n",
      "        \n",
      "        Uses the __trunc__ magic method.\n",
      "\n",
      "DATA\n",
      "    e = 2.718281828459045\n",
      "    inf = inf\n",
      "    nan = nan\n",
      "    pi = 3.141592653589793\n",
      "    tau = 6.283185307179586\n",
      "\n",
      "FILE\n",
      "    /Library/Developer/CommandLineTools/Library/Frameworks/Python3.framework/Versions/3.8/lib/python3.8/lib-dynload/math.cpython-38-darwin.so\n",
      "\n",
      "\n"
     ]
    }
   ],
   "source": [
    "help(math)"
   ]
  },
  {
   "cell_type": "code",
   "execution_count": 17,
   "metadata": {
    "executionInfo": {
     "elapsed": 271,
     "status": "ok",
     "timestamp": 1636452159568,
     "user": {
      "displayName": "Francesco Pannarale",
      "photoUrl": "https://lh3.googleusercontent.com/a/default-user=s64",
      "userId": "04296007763837408065"
     },
     "user_tz": -60
    },
    "id": "XgG1KCCVa_DH"
   },
   "outputs": [],
   "source": [
    "math.pi?"
   ]
  },
  {
   "cell_type": "code",
   "execution_count": 18,
   "metadata": {
    "colab": {
     "base_uri": "https://localhost:8080/"
    },
    "executionInfo": {
     "elapsed": 264,
     "status": "ok",
     "timestamp": 1636452166339,
     "user": {
      "displayName": "Francesco Pannarale",
      "photoUrl": "https://lh3.googleusercontent.com/a/default-user=s64",
      "userId": "04296007763837408065"
     },
     "user_tz": -60
    },
    "id": "zbduZs3Oa_DH",
    "outputId": "310afc68-19be-4fbf-d29d-673b29a46ecb"
   },
   "outputs": [
    {
     "name": "stdout",
     "output_type": "stream",
     "text": [
      "3.141592653589793\n"
     ]
    }
   ],
   "source": [
    "print(math.pi)"
   ]
  },
  {
   "cell_type": "code",
   "execution_count": 19,
   "metadata": {
    "colab": {
     "base_uri": "https://localhost:8080/"
    },
    "executionInfo": {
     "elapsed": 2,
     "status": "ok",
     "timestamp": 1636452166871,
     "user": {
      "displayName": "Francesco Pannarale",
      "photoUrl": "https://lh3.googleusercontent.com/a/default-user=s64",
      "userId": "04296007763837408065"
     },
     "user_tz": -60
    },
    "id": "enYJkOesa_DG",
    "outputId": "43ecd908-0863-422d-c1a1-8755467bdbeb"
   },
   "outputs": [
    {
     "name": "stdout",
     "output_type": "stream",
     "text": [
      "0.01436959609043909\n"
     ]
    }
   ],
   "source": [
    "print(math.exp(-x))"
   ]
  },
  {
   "cell_type": "markdown",
   "metadata": {
    "id": "jSUO76wPa_DI"
   },
   "source": [
    "## Reduce typing `math`\n",
    "\n",
    "You can rename an existing namespace `math` to a new local namespace `m`.  This is generally done to reduce typing."
   ]
  },
  {
   "cell_type": "code",
   "execution_count": 20,
   "metadata": {
    "colab": {
     "base_uri": "https://localhost:8080/"
    },
    "executionInfo": {
     "elapsed": 267,
     "status": "ok",
     "timestamp": 1636452194873,
     "user": {
      "displayName": "Francesco Pannarale",
      "photoUrl": "https://lh3.googleusercontent.com/a/default-user=s64",
      "userId": "04296007763837408065"
     },
     "user_tz": -60
    },
    "id": "dPJb-a4Ja_DI",
    "outputId": "f52a160b-2757-46a3-9a2d-93305de3b8e8"
   },
   "outputs": [
    {
     "name": "stdout",
     "output_type": "stream",
     "text": [
      "-1.0\n"
     ]
    }
   ],
   "source": [
    "import math as m\n",
    "print(m.cos(m.pi))"
   ]
  },
  {
   "cell_type": "code",
   "execution_count": 21,
   "metadata": {
    "colab": {
     "base_uri": "https://localhost:8080/"
    },
    "executionInfo": {
     "elapsed": 266,
     "status": "ok",
     "timestamp": 1636452201499,
     "user": {
      "displayName": "Francesco Pannarale",
      "photoUrl": "https://lh3.googleusercontent.com/a/default-user=s64",
      "userId": "04296007763837408065"
     },
     "user_tz": -60
    },
    "id": "_GaqdmcHa_DJ",
    "outputId": "07a1c5af-3610-4349-caa6-c6b63164ad39"
   },
   "outputs": [
    {
     "name": "stdout",
     "output_type": "stream",
     "text": [
      "theta in rad:  0.7853981633974483\n",
      "theta degrees:  45.0\n"
     ]
    }
   ],
   "source": [
    "theta = m.pi/4\n",
    "print(\"theta in rad: \", theta)\n",
    "print(\"theta degrees: \", 180*theta/m.pi)"
   ]
  },
  {
   "cell_type": "markdown",
   "metadata": {
    "id": "qoJK-hwWJv-W"
   },
   "source": [
    "Note that the `math` module has a method to convert from radians to degrees."
   ]
  },
  {
   "cell_type": "code",
   "execution_count": 22,
   "metadata": {
    "colab": {
     "base_uri": "https://localhost:8080/"
    },
    "executionInfo": {
     "elapsed": 266,
     "status": "ok",
     "timestamp": 1636452227068,
     "user": {
      "displayName": "Francesco Pannarale",
      "photoUrl": "https://lh3.googleusercontent.com/a/default-user=s64",
      "userId": "04296007763837408065"
     },
     "user_tz": -60
    },
    "id": "buAofWLOa_DM",
    "outputId": "2830ed38-f26a-4ec1-afab-bbe9b132edab"
   },
   "outputs": [
    {
     "name": "stdout",
     "output_type": "stream",
     "text": [
      "theta:  45.0\n"
     ]
    }
   ],
   "source": [
    "print(\"theta: \", m.degrees(theta))"
   ]
  },
  {
   "cell_type": "markdown",
   "metadata": {
    "id": "cwpfvxINa_DN"
   },
   "source": [
    "## Plotting with `matplotlib`\n",
    "\n",
    "Among other things, `matplotlib` provides numerous plotting functionalities.\n",
    "We will explore this module in several examples.\n",
    "\n",
    "Jupyter allows us to use the plots interactively by invoking the magic command `%matplotlib inline` ."
   ]
  },
  {
   "cell_type": "code",
   "execution_count": 23,
   "metadata": {
    "colab": {
     "base_uri": "https://localhost:8080/",
     "height": 282
    },
    "executionInfo": {
     "elapsed": 522,
     "status": "ok",
     "timestamp": 1636452310336,
     "user": {
      "displayName": "Francesco Pannarale",
      "photoUrl": "https://lh3.googleusercontent.com/a/default-user=s64",
      "userId": "04296007763837408065"
     },
     "user_tz": -60
    },
    "id": "ww1gdiaia_DP",
    "outputId": "e6bef5aa-6988-4ac8-f502-f905e185f4da"
   },
   "outputs": [
    {
     "data": {
      "text/plain": [
       "<matplotlib.legend.Legend at 0x120c76ee0>"
      ]
     },
     "execution_count": 23,
     "metadata": {},
     "output_type": "execute_result"
    },
    {
     "data": {
      "image/png": "[encoded data removed]",
      "text/plain": [
       "<Figure size 432x288 with 1 Axes>"
      ]
     },
     "metadata": {
      "needs_background": "light"
     },
     "output_type": "display_data"
    }
   ],
   "source": [
    "import matplotlib.pyplot as plt\n",
    "\n",
    "# You need this line to show the plot in jupyter. Not needed in plain Python.\n",
    "%matplotlib inline \n",
    "\n",
    "# define your data\n",
    "x = [1,2,3,4,5,6]\n",
    "y = x\n",
    "\n",
    "z = [i**3 for i in x]\n",
    "\n",
    "plt.plot(x, y, marker='*', label=\"sample 1\", markersize=20)\n",
    "plt.plot(x, z, marker='^', label=\"sample 2\", color='red')\n",
    "\n",
    "plt.legend()"
   ]
  },
  {
   "cell_type": "code",
   "execution_count": null,
   "metadata": {
    "id": "mHl86Hida_DQ"
   },
   "outputs": [],
   "source": []
  }
 ],
 "metadata": {
  "colab": {
   "collapsed_sections": [],
   "name": "example02.ipynb",
   "provenance": []
  },
  "kernelspec": {
   "display_name": "Python 3 (ipykernel)",
   "language": "python",
   "name": "python3"
  },
  "language_info": {
   "codemirror_mode": {
    "name": "ipython",
    "version": 3
   },
   "file_extension": ".py",
   "mimetype": "text/x-python",
   "name": "python",
   "nbconvert_exporter": "python",
   "pygments_lexer": "ipython3",
   "version": "3.8.2"
  }
 },
 "nbformat": 4,
 "nbformat_minor": 1
}
