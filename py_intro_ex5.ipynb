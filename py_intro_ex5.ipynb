{
 "cells": [
  {
   "cell_type": "markdown",
   "metadata": {},
   "source": [
    "### Importing modules"
   ]
  },
  {
   "cell_type": "code",
   "execution_count": 2,
   "metadata": {},
   "outputs": [],
   "source": [
    "import numpy as np\n",
    "import math as m\n",
    "import random as r\n",
    "import matplotlib as mpl\n",
    "import matplotlib.pyplot as plt"
   ]
  },
  {
   "cell_type": "markdown",
   "metadata": {},
   "source": [
    "# Numerical evaluation of $\\pi$ (approximated)"
   ]
  },
  {
   "cell_type": "markdown",
   "metadata": {},
   "source": [
    "### Algorithm\n",
    "We need to find the area spanned by a circle in a square with unitray radius. The value of $\\pi$ will be $\\pi = 4\\frac{\\pi}{4}$, that is four times the number of points in the box divided the number of points in the square. The points ar random generated."
   ]
  },
  {
   "cell_type": "code",
   "execution_count": 3,
   "metadata": {},
   "outputs": [
    {
     "name": "stdout",
     "output_type": "stream",
     "text": [
      "The real value of $\\pi$ is: 3.141592653589793\n",
      "per N= 1000 il valore di pi greco è 3.112 +/- 0.00941963419604336\n",
      "per N= 10000 il valore di pi greco è 3.1556 +/- 0.00445867684156994\n",
      "per N= 100000 il valore di pi greco è 3.14308 +/- 0.00047343706654878276\n",
      "per N= 1000000 il valore di pi greco è 3.14432 +/- 0.0008681413254167246\n"
     ]
    }
   ],
   "source": [
    "positions = []  # positions of points\n",
    "pos_C = []  # only points in the circle\n",
    "greek_pi = [] # list with diffferent approximations of pi\n",
    "sigma_pi = [] # list with diffferent relative errors with respect to the real value of pi\n",
    "\n",
    "N = (int(1e3), int(1e4), int(1e5), int(1e6))\n",
    "\n",
    "def Clear(a,b):\n",
    "  a.clear()\n",
    "  b.clear()\n",
    "\n",
    "def Print(n , val, s):\n",
    "  print(\"per N=\",n, \"il valore di pi greco è\", val, \"+/-\", s )\n",
    "\n",
    "print(\"The real value of $\\pi$ is:\", m.pi)\n",
    "\n",
    "for k,j in enumerate(N):\n",
    "  \n",
    "  # generation of position\n",
    "  positions = [ (np.random.uniform(-1.0,1.0),np.random.uniform(-1.0,1.0) ) for i in range(0,j,1)]\n",
    "  x = list(list(zip(*positions))[0])\n",
    "  y = list(list(zip(*positions))[1])\n",
    "  \n",
    "  # checking if points are (or not) in the cirlce\n",
    "  pos_C = [ (a,b) for a,b in positions if a*a + b*b <= 1]\n",
    "  circle_x = list(list(zip(*pos_C))[0])\n",
    "  circle_y = list(list(zip(*pos_C))[1])\n",
    "  \n",
    "  pos_notInC = set(positions) - set(pos_C)\n",
    "  notInC_x = list(list(zip(*pos_notInC))[0])\n",
    "  notInC_y = list(list(zip(*pos_notInC))[1])\n",
    "  \n",
    "  # evaluation of pi and relative errors\n",
    "  g_pi=4*len(pos_C)/j\n",
    "  s_pi=abs((g_pi - np.pi))/np.pi\n",
    "  greek_pi.append(g_pi)\n",
    "  sigma_pi.append(s_pi)\n",
    "  \n",
    "  # printing function\n",
    "  Print(j,g_pi,s_pi)\n",
    "  \n",
    "  # clearing tuples\n",
    "  Clear(positions,pos_C)"
   ]
  },
  {
   "cell_type": "markdown",
   "metadata": {},
   "source": [
    "### Plotting results"
   ]
  },
  {
   "cell_type": "code",
   "execution_count": 4,
   "metadata": {},
   "outputs": [
    {
     "name": "stderr",
     "output_type": "stream",
     "text": [
      "No handles with labels found to put in legend.\n"
     ]
    },
    {
     "data": {
      "text/plain": [
       "<matplotlib.legend.Legend at 0x7fefb59f3910>"
      ]
     },
     "execution_count": 4,
     "metadata": {},
     "output_type": "execute_result"
    },
    {
     "data": {
      "image/png": "[encoded data removed]",
      "text/plain": [
       "<Figure size 432x288 with 1 Axes>"
      ]
     },
     "metadata": {
      "needs_background": "light"
     },
     "output_type": "display_data"
    }
   ],
   "source": [
    "%matplotlib inline\n",
    "plt.axis('square')\n",
    "plt.xlim(-1.1,1.1)\n",
    "plt.ylim(-1.1,1.1)\n",
    "plt.title(\"$\\pi\\simeq${0:.6f} with {1:g} points\".format(greek_pi[-1], N[-1]))\n",
    "plt.plot(notInC_x, notInC_y, color='indianred', ls='', marker='.')\n",
    "plt.plot(circle_x, circle_y, color='lightskyblue', ls='', marker='.')\n",
    "plt.legend(loc='best')"
   ]
  },
  {
   "cell_type": "markdown",
   "metadata": {},
   "source": [
    "# Kniffel - Yahtzee game\n",
    "## Version 1\n",
    "### Rules:\n",
    "\n",
    "Each player can roll five dice. Possibilities:\n",
    "- Scale: 12345 or 23456\n",
    "- Full: combination of three identical numbers and other two (e.g. 33366)\n",
    "- Tris: three identical numbers\n",
    "- Poker: four identical numbers\n",
    "- Kniffel: five identical numbers"
   ]
  },
  {
   "cell_type": "code",
   "execution_count": 31,
   "metadata": {},
   "outputs": [],
   "source": [
    "# dictionary containing type of victories\n",
    "possibilities = {0:'nothing',1:'scale',2:'full',3:'tris',4:'poker',5:'kniffel'}\n",
    "histo= []\n",
    "\n",
    "# this function has in input v = sorted list of entries, vect = number of victories\n",
    "def special(v,vect):\n",
    "  a = 0 # counter: it is != 0 if we don't have a scale\n",
    "  w = 0\n",
    "  idx = 0\n",
    "  while idx<4:\n",
    "    if( v[idx] + 1 != v[idx+1] ):\n",
    "      a += 1\n",
    "    idx += 1\n",
    "  if (a == 0):\n",
    "    w = 1\n",
    "  elif( v.count(v[0]) == 5 ):\n",
    "    w = 5\n",
    "  elif( v.count(v[2]) == 4 ):\n",
    "    w = 4\n",
    "  elif( v.count(v[2]) == 3 ):\n",
    "    if( v.count(v[0]) == 2 or v.count(v[4]) == 2 ):\n",
    "      w = 2\n",
    "    else:\n",
    "      w = 3\n",
    "  if w != 0:\n",
    "    vect[w-1] += 1\n",
    "\n",
    "for i in range(0,10000,1):\n",
    "  \n",
    "  number_of_victories = [0,0,0,0,0]\n",
    "  c=0\n",
    "  \n",
    "  while number_of_victories.count(0) != 0:\n",
    "    roll = [r.randrange(1,6) for i in range(5)]\n",
    "    special(sorted(roll), number_of_victories)\n",
    "    roll.clear()\n",
    "    c += 1\n",
    "  histo.append(c)"
   ]
  },
  {
   "cell_type": "code",
   "execution_count": 65,
   "metadata": {},
   "outputs": [
    {
     "data": {
      "text/plain": [
       "(array([1.835e+03, 1.511e+03, 1.188e+03, 1.054e+03, 7.980e+02, 6.540e+02,\n",
       "        5.230e+02, 4.320e+02, 3.440e+02, 3.110e+02, 2.460e+02, 1.670e+02,\n",
       "        1.750e+02, 1.380e+02, 1.230e+02, 7.800e+01, 7.800e+01, 5.500e+01,\n",
       "        6.500e+01, 4.200e+01, 3.300e+01, 1.600e+01, 2.700e+01, 1.900e+01,\n",
       "        1.200e+01, 1.200e+01, 1.300e+01, 1.300e+01, 7.000e+00, 7.000e+00,\n",
       "        7.000e+00, 3.000e+00, 2.000e+00, 0.000e+00, 0.000e+00, 0.000e+00,\n",
       "        3.000e+00, 1.000e+00, 1.000e+00, 0.000e+00, 4.000e+00, 1.000e+00,\n",
       "        1.000e+00, 0.000e+00, 0.000e+00, 0.000e+00, 0.000e+00, 0.000e+00,\n",
       "        0.000e+00, 1.000e+00]),\n",
       " array([   8.  ,  131.14,  254.28,  377.42,  500.56,  623.7 ,  746.84,\n",
       "         869.98,  993.12, 1116.26, 1239.4 , 1362.54, 1485.68, 1608.82,\n",
       "        1731.96, 1855.1 , 1978.24, 2101.38, 2224.52, 2347.66, 2470.8 ,\n",
       "        2593.94, 2717.08, 2840.22, 2963.36, 3086.5 , 3209.64, 3332.78,\n",
       "        3455.92, 3579.06, 3702.2 , 3825.34, 3948.48, 4071.62, 4194.76,\n",
       "        4317.9 , 4441.04, 4564.18, 4687.32, 4810.46, 4933.6 , 5056.74,\n",
       "        5179.88, 5303.02, 5426.16, 5549.3 , 5672.44, 5795.58, 5918.72,\n",
       "        6041.86, 6165.  ]),\n",
       " [<matplotlib.patches.Polygon at 0x7fe25f75dfd0>])"
      ]
     },
     "execution_count": 65,
     "metadata": {},
     "output_type": "execute_result"
    },
    {
     "data": {
      "image/png": "[encoded data removed]",
      "text/plain": [
       "<Figure size 432x288 with 1 Axes>"
      ]
     },
     "metadata": {
      "needs_background": "light"
     },
     "output_type": "display_data"
    }
   ],
   "source": [
    "%matplotlib inline \n",
    "plt.hist(histo, 50, histtype = 'step', cumulative = True, color = 'darkorange')\n",
    "plt.hist(histo, 50, histtype = 'step', color = 'seagreen')"
   ]
  },
  {
   "cell_type": "markdown",
   "metadata": {},
   "source": [
    "# Kniffel -  Yahtzee game\n",
    "## Version 2"
   ]
  },
  {
   "cell_type": "markdown",
   "metadata": {},
   "source": [
    "Dictionary containing type of victories:\n"
   ]
  },
  {
   "cell_type": "code",
   "execution_count": 32,
   "metadata": {},
   "outputs": [],
   "source": [
    "all_events = {'ks': \"Kleine strasse\",\n",
    "              'gs': \"Grosse strasse\",\n",
    "              'kn': \"Kniffel\",\n",
    "              'fh': \"Full house\",\n",
    "              '4k': \"Viererpatsch\",\n",
    "              '3k': \"Dreierpatsch\"}\n"
   ]
  },
  {
   "cell_type": "markdown",
   "metadata": {},
   "source": [
    "function definitons"
   ]
  },
  {
   "cell_type": "code",
   "execution_count": 33,
   "metadata": {},
   "outputs": [],
   "source": [
    "\n",
    "# function of random roll\n",
    "def kniffel_roll():\n",
    "    hand = [r.choice((1, 2, 3, 4, 5, 6)) for i in range(5)]\n",
    "    return hand\n",
    "\n",
    "# this function check the type of victory of a signeìle hand\n",
    "def check_score(hand):\n",
    "    \n",
    "    counts = [hand.count(n) for n in set(hand)]\n",
    "    counts.sort()\n",
    " \n",
    "    event = None   \n",
    "\n",
    "    if counts == [1, 1, 3]:\n",
    "        event = '3k'\n",
    "    elif counts == [2, 3]:\n",
    "        event = 'fh'\n",
    "    elif counts == [1, 4]:\n",
    "        event = '4k'\n",
    "    elif len(counts) == 1:\n",
    "        event = 'kn'\n",
    "    elif sorted(hand) == [1, 2, 3, 4, 5]:\n",
    "        event = 'ks'\n",
    "    elif sorted(hand) == [2, 3, 4, 5, 6]:\n",
    "        event = 'gs'\n",
    "\n",
    "    return event\n",
    "\n",
    "def update_remaining_events(event, remaining_events):\n",
    "    remaining_events.pop(event, None)\n",
    "    \n",
    "def event_info(event, hand, remaining_events, all_events):\n",
    "    if event is not None:\n",
    "        try:\n",
    "            print(\"{0}!\".format(remaining_events[event]), hand)\n",
    "        except:\n",
    "            print(\"Too bad, you already scored a {0} previously!\".format(all_events[event].lower()), hand)\n",
    "    else:\n",
    "        print(\"Better luck next time...\", hand)  "
   ]
  },
  {
   "cell_type": "markdown",
   "metadata": {},
   "source": [
    "Implementation of the code:"
   ]
  },
  {
   "cell_type": "code",
   "execution_count": 35,
   "metadata": {},
   "outputs": [],
   "source": [
    "N_games = 0\n",
    "all_rolls = []\n",
    "Total_games = int(1e3)\n",
    "\n",
    "while N_games < Total_games:\n",
    "    remaining_events = dict(all_events)\n",
    "    rolls = 0\n",
    "\n",
    "    while len(remaining_events):\n",
    "        rolls += 1\n",
    "        hand = kniffel_roll()\n",
    "        event = check_score(hand)\n",
    "        #event_info(event, hand, remaining_events, all_events)\n",
    "        update_remaining_events(event, remaining_events)\n",
    "    \n",
    "    N_games += 1\n",
    "    all_rolls.append(rolls)"
   ]
  },
  {
   "cell_type": "markdown",
   "metadata": {},
   "source": [
    "Plotting the distribution of the total rolls over the simulated games"
   ]
  },
  {
   "cell_type": "code",
   "execution_count": 66,
   "metadata": {},
   "outputs": [
    {
     "data": {
      "text/plain": [
       "[<matplotlib.lines.Line2D at 0x7fe25f6bc340>]"
      ]
     },
     "execution_count": 66,
     "metadata": {},
     "output_type": "execute_result"
    },
    {
     "data": {
      "image/png": "[encoded data removed]",
      "text/plain": [
       "<Figure size 432x288 with 1 Axes>"
      ]
     },
     "metadata": {
      "needs_background": "light"
     },
     "output_type": "display_data"
    }
   ],
   "source": [
    "lam = 0.78e-3 # Poisson distribution: the expectation value for the number of rolls is 1/lam\n",
    "y = []\n",
    "\n",
    "plt.xlabel(\"Rolls to complete the game\")\n",
    "plt.ylabel(\"Distribution of number of rolls\")\n",
    "plt.title(\"Total number of simulated Kniffel games: {0}\\nExpectation value of rolls: {1:.0f}\".format(Total_games, 1/lam))\n",
    "n, bins, patches = plt.hist(all_rolls, bins=20, density=True, log=False, histtype='step')\n",
    "\n",
    "for b in bins:\n",
    "    y.append(lam * m.exp(-lam*b))\n",
    "\n",
    "plt.plot(bins, y, 'k--', linewidth=1.5, label='Theoretical')"
   ]
  },
  {
   "cell_type": "markdown",
   "metadata": {},
   "source": [
    "Cumulative"
   ]
  },
  {
   "cell_type": "code",
   "execution_count": 54,
   "metadata": {},
   "outputs": [
    {
     "data": {
      "image/png": "[encoded data removed]",
      "text/plain": [
       "<Figure size 432x288 with 1 Axes>"
      ]
     },
     "metadata": {
      "needs_background": "light"
     },
     "output_type": "display_data"
    }
   ],
   "source": [
    "plt.xlabel(\"Rolls to complete the game\")\n",
    "plt.ylabel(\"Cumulative distribution of number of rolls\")\n",
    "plt.title(\"Total number of simulated Kniffel games: {0}\\nExpectation value of rolls: {1:.0f}\".format(Total_games, 1/lam))\n",
    "n, bins, patches = plt.hist(all_rolls, bins=20, histtype='step', density=True, log=False, cumulative=True)"
   ]
  }
 ],
 "metadata": {
  "interpreter": {
   "hash": "aee8b7b246df8f9039afb4144a1f6fd8d2ca17a180786b69acc140d282b71a49"
  },
  "kernelspec": {
   "display_name": "Python 3.8.2 64-bit",
   "language": "python",
   "name": "python3"
  },
  "language_info": {
   "codemirror_mode": {
    "name": "ipython",
    "version": 3
   },
   "file_extension": ".py",
   "mimetype": "text/x-python",
   "name": "python",
   "nbconvert_exporter": "python",
   "pygments_lexer": "ipython3",
   "version": "3.8.2"
  },
  "orig_nbformat": 4
 },
 "nbformat": 4,
 "nbformat_minor": 2
}
